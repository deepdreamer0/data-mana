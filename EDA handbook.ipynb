{
 "cells": [
  {
   "cell_type": "code",
   "execution_count": 1,
   "metadata": {},
   "outputs": [],
   "source": [
    "# 配置编码\n",
    "# coding:utf-8"
   ]
  },
  {
   "cell_type": "code",
   "execution_count": 3,
   "metadata": {},
   "outputs": [],
   "source": [
    "# 设置pandas 显示\n",
    "# import pandas as pd\n",
    "# pd.set_option('display.max_columns', None)\n",
    "# pd.set_option('display.max_rows',None)"
   ]
  },
  {
   "cell_type": "code",
   "execution_count": null,
   "metadata": {},
   "outputs": [],
   "source": [
    "# 日期处理 配置字符串读入\n",
    "# df=pd.read_csv(\"./mum_baby/mum_baby.csv\",dtype={\"user_id\":str,\"birthday\":str,\"gender\":str})\n",
    "# df[\"birthday\"]=pd.to_datetime(dd_user.birthday) # 处理日期"
   ]
  },
  {
   "cell_type": "code",
   "execution_count": 2,
   "metadata": {},
   "outputs": [
    {
     "name": "stderr",
     "output_type": "stream",
     "text": [
      "/Users/zhizhao/anaconda3/lib/python3.6/site-packages/seaborn/timeseries.py:183: UserWarning: The tsplot function is deprecated and will be removed or replaced (in a substantially altered version) in a future release.\n",
      "  warnings.warn(msg, UserWarning)\n"
     ]
    },
    {
     "data": {
      "image/png": "[encoded data removed]",
      "text/plain": [
       "<matplotlib.figure.Figure at 0x1096adeb8>"
      ]
     },
     "metadata": {},
     "output_type": "display_data"
    }
   ],
   "source": [
    "# Plot a trace with translucent confidence bands:\n",
    "# 绘制带有半透明置信带的轨迹：\n",
    "# data是多组list的组合，这时候应该绘制多条曲线才对啊，其实不是的，是多组list的均值的序列图（默认）\n",
    "import numpy as np; np.random.seed(22)\n",
    "import seaborn as sns; sns.set(color_codes=True)\n",
    "x = np.linspace(0, 15, 31)\n",
    "data = np.sin(x) + np.random.rand(10, 31) + np.random.randn(10, 1)\n",
    "ax = sns.tsplot(data=data)"
   ]
  },
  {
   "cell_type": "code",
   "execution_count": null,
   "metadata": {},
   "outputs": [],
   "source": [
    "# 时间序列\n",
    "import pandas as pd\n",
    "import matplotlib.pyplot as plt\n",
    "plt.rcParams['font.sans-serif'] = ['SimHei']\n",
    "plt.rcParams['axes.unicode_minus'] = False\n",
    "\n",
    "input_file = '../data/arima_data.xls'\n",
    "forecast_num = 5\n",
    "\n",
    "data = pd.read_excel(input_file, index_col = u'日期')\n",
    "data.plot()\n",
    "plt.show()\n",
    "\n",
    "from statsmodels.graphics.tsaplots import plot_acf\n",
    "plot_acf(data)\n",
    "plt.show()\n",
    "\n",
    "from statsmodels.tsa.stattools import adfuller as ADF\n",
    "print(u'原始序列的ADF检验结果为：', ADF(data[u'销量']))"
   ]
  },
  {
   "cell_type": "code",
   "execution_count": null,
   "metadata": {},
   "outputs": [],
   "source": [
    "# 时间序列2\n",
    "import pandas as pd\n",
    "        import matplotlib.pyplot as plt\n",
    "        from matplotlib.dates import AutoDateLocator, DateFormatter  \n",
    "\n",
    "        df = pd.read_csv('d:/speed1219.csv',  parse_dates=['dtime'])\n",
    "        plt.plot_date(df.dtime, df.speed, fmt='b.')\n",
    "\n",
    "        ax = plt.gca()\n",
    "        ax.xaxis.set_major_formatter(DateFormatter('%Y-%m-%d %H:%M'))  #设置时间显示格式\n",
    "        ax.xaxis.set_major_locator(AutoDateLocator(maxticks=24))       #设置时间间隔  \n",
    "\n",
    "        plt.xticks(rotation=90, ha='center')\n",
    "        label = ['speedpoint']\n",
    "        plt.legend(label, loc='upper right')\n",
    "\n",
    "        plt.grid()\n",
    "\n",
    "        ax.set_title(u'传输速度', fontproperties='SimHei',fontsize=14)  \n",
    "        ax.set_xlabel('dtime')\n",
    "        ax.set_ylabel('Speed(KB/s)')\n",
    "\n",
    "        plt.show()"
   ]
  },
  {
   "cell_type": "code",
   "execution_count": null,
   "metadata": {},
   "outputs": [],
   "source": [
    "# 异常侦测模型\n",
    "from sklearn.neighbors import LocalOutlierFactor\n",
    "\n",
    "lof = LocalOutlierFactor(n_neighbors=20,\n",
    "                         metric='euclidean',\n",
    "                         # 定义5%异常\n",
    "                         contamination=0.05) \n",
    "preds = lof.fit_predict(data_mess)\n",
    "plt.scatter(data_mess[:,0], \n",
    "            data_mess[:,1], \n",
    "            c=preds,\n",
    "            cmap='RdYlGn')\n",
    "plt.show()\n",
    "\n",
    "from sklearn.ensemble import IsolationForest\n",
    "iso = IsolationForest(n_estimators=100,contamination=0.05)\n",
    "preds2 = iso.fit(data_mess)\n",
    "preds = preds2.predict(data_mess)\n",
    "plt.scatter(data_mess[:,0], \n",
    "            data_mess[:,1], \n",
    "            c=preds,\n",
    "            cmap='RdYlGn')\n",
    "plt.show()"
   ]
  }
 ],
 "metadata": {
  "hide_input": false,
  "kernelspec": {
   "display_name": "Python 3",
   "language": "python",
   "name": "python3"
  },
  "language_info": {
   "codemirror_mode": {
    "name": "ipython",
    "version": 3
   },
   "file_extension": ".py",
   "mimetype": "text/x-python",
   "name": "python",
   "nbconvert_exporter": "python",
   "pygments_lexer": "ipython3",
   "version": "3.6.4"
  },
  "latex_envs": {
   "LaTeX_envs_menu_present": true,
   "autoclose": false,
   "autocomplete": true,
   "bibliofile": "biblio.bib",
   "cite_by": "apalike",
   "current_citInitial": 1,
   "eqLabelWithNumbers": true,
   "eqNumInitial": 1,
   "hotkeys": {
    "equation": "Ctrl-E",
    "itemize": "Ctrl-I"
   },
   "labels_anchors": false,
   "latex_user_defs": false,
   "report_style_numbering": false,
   "user_envs_cfg": false
  },
  "toc": {
   "base_numbering": 1,
   "nav_menu": {},
   "number_sections": true,
   "sideBar": true,
   "skip_h1_title": false,
   "title_cell": "Table of Contents",
   "title_sidebar": "Contents",
   "toc_cell": false,
   "toc_position": {},
   "toc_section_display": true,
   "toc_window_display": false
  },
  "varInspector": {
   "cols": {
    "lenName": 16,
    "lenType": 16,
    "lenVar": 40
   },
   "kernels_config": {
    "python": {
     "delete_cmd_postfix": "",
     "delete_cmd_prefix": "del ",
     "library": "var_list.py",
     "varRefreshCmd": "print(var_dic_list())"
    },
    "r": {
     "delete_cmd_postfix": ") ",
     "delete_cmd_prefix": "rm(",
     "library": "var_list.r",
     "varRefreshCmd": "cat(var_dic_list()) "
    }
   },
   "types_to_exclude": [
    "module",
    "function",
    "builtin_function_or_method",
    "instance",
    "_Feature"
   ],
   "window_display": false
  }
 },
 "nbformat": 4,
 "nbformat_minor": 2
}
