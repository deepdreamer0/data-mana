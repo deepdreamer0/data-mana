{
 "cells": [
  {
   "cell_type": "markdown",
   "metadata": {
    "_cell_guid": "2bf10d47-38a2-d6bb-f249-ab7ca40e463f"
   },
   "source": [
    "<a id='top'></a>"
   ]
  },
  {
   "cell_type": "markdown",
   "metadata": {
    "_cell_guid": "79351222-d991-7342-0b79-68fe267e117b"
   },
   "source": [
    "# Python walk-through for Titanic data analysis"
   ]
  },
  {
   "cell_type": "markdown",
   "metadata": {
    "_cell_guid": "f1ea4a4b-59ec-5579-4d67-b4112cb92107"
   },
   "source": [
    "## *This is a work in progress. Comments and critical feedback are always welcome.*"
   ]
  },
  {
   "cell_type": "code",
   "execution_count": 2,
   "metadata": {},
   "outputs": [],
   "source": [
    "# This is an example snippet!\n",
    "# To create your own, add a new snippet block to the\n",
    "# snippets.json file in your jupyter nbextensions directory:\n",
    "# /nbextensions/snippets/snippets.json\n",
    "import this"
   ]
  },
  {
   "cell_type": "markdown",
   "metadata": {
    "_cell_guid": "aa364a4f-d786-4d4b-dc81-7cb19b89fab1"
   },
   "source": [
    "**Note:** This is not a streamlined analysis, but it contains certain redundancies with the purpose of featuring and exploring different visualisation and modelling tools that can be useful in approaching a binary classification problem. I'm happy to see that my notes are useful for others who are starting out in data analysis and machine learning, and I hope that you will be able to get some inspiration from this kernel.\n",
    "\n",
    "As the kernel continues to grow it is branching out in more detail into the different data analysis steps. This adds more depth to the overall content, but it also makes the whole notebook rather extensive. If you're very new to this subject then I recommend to go through each section on it's own (e.g. by playing with a forked copy) rather than reading the whole thing in one go. Of course, for newbies I also recommend the excellent kernels featured in the [Titanic Tutorials](https://www.kaggle.com/c/titanic#tutorials). "
   ]
  },
  {
   "cell_type": "markdown",
   "metadata": {
    "_cell_guid": "964dd890-bc7a-6a01-13af-0a38dcd154b5"
   },
   "source": [
    "## Outline:\n",
    "\n",
    "*(Note: the hyper links \"kind of\" work, in that they take you to the corresponding section but create a separate HTML page every time you click one of them. Plus, scrolling only works with arrow keys [at least for me on Firefox]. Feel free to try them out and let me know whether you find them useful.)*\n",
    "\n",
    "1. [Load Data and Modules](#load)\n",
    "1. [Initial Exploration](#explore)\n",
    "1. [Relations between features](#relations)\n",
    "1. [Missing values](#missing)\n",
    "1. [Derived (engineered) features](#derived)\n",
    "1. [Preparing for modelling](#encode)\n",
    "1. [Modelling](#model)\n",
    "1. [Preparing our prediction for submission](#submit)"
   ]
  },
  {
   "cell_type": "markdown",
   "metadata": {
    "_cell_guid": "2a82d4bb-2a2e-7e40-a725-a5338ad5a1eb"
   },
   "source": [
    "<a id='load'></a>"
   ]
  },
  {
   "cell_type": "markdown",
   "metadata": {
    "_cell_guid": "3e96630b-da9a-36be-eb3e-7f81e3f900a6"
   },
   "source": [
    "# **1. Load Data and Modules**"
   ]
  },
  {
   "cell_type": "markdown",
   "metadata": {
    "_cell_guid": "42032e5e-a550-1e30-e29b-b9af2ea4195c"
   },
   "source": [
    "**Load Python modules:** The list of modules grows step by step by adding new functionality that is useful for this project. A module could be defined further down once it is needed, but I prefer to have them all in one place to keep an overview."
   ]
  },
  {
   "cell_type": "code",
   "execution_count": 16,
   "metadata": {
    "_cell_guid": "6e85e00b-f10a-1a0a-3ec5-5d2fd4209d61",
    "scrolled": true
   },
   "outputs": [],
   "source": [
    "#%matplotlib inline\n",
    "\n",
    "# for seaborn issue:\n",
    "import warnings\n",
    "warnings.filterwarnings(\"ignore\")\n",
    "\n",
    "import pandas as pd\n",
    "import numpy as np\n",
    "from scipy import stats\n",
    "import sklearn as sk\n",
    "import itertools\n",
    "import matplotlib.pyplot as plt\n",
    "import matplotlib.gridspec as gridspec\n",
    "import seaborn as sns\n",
    "from statsmodels.graphics.mosaicplot import mosaic\n",
    "\n",
    "from sklearn.linear_model import LogisticRegression\n",
    "from sklearn.linear_model import Perceptron\n",
    "from sklearn import tree\n",
    "from sklearn.neighbors import KNeighborsClassifier\n",
    "from sklearn.ensemble import RandomForestClassifier\n",
    "from sklearn.ensemble import ExtraTreesClassifier\n",
    "from sklearn.ensemble import BaggingClassifier\n",
    "from sklearn.ensemble import AdaBoostClassifier\n",
    "from sklearn.ensemble import GradientBoostingClassifier\n",
    "from sklearn.ensemble import VotingClassifier\n",
    "from sklearn import svm\n",
    "import xgboost as xgb\n",
    "from mlxtend.classifier import StackingClassifier\n",
    "\n",
    "from sklearn.model_selection import cross_val_score\n",
    "from sklearn.model_selection import KFold\n",
    "from sklearn.metrics import confusion_matrix\n",
    "from sklearn.model_selection import train_test_split\n",
    "from sklearn.model_selection import GridSearchCV\n",
    "\n",
    "sns.set(style='white', context='notebook', palette='deep')"
   ]
  },
  {
   "cell_type": "markdown",
   "metadata": {
    "_cell_guid": "b8968e1d-3e20-3421-e0dd-1e4fc2a986d0"
   },
   "source": [
    "**Load input data.** And combine the available features of train and test data sets. *test* of course doesn't have the column that indicates survival."
   ]
  },
  {
   "cell_type": "code",
   "execution_count": 18,
   "metadata": {
    "_cell_guid": "f8a7c617-975d-997d-9f55-77f94405f996"
   },
   "outputs": [],
   "source": [
    "train = pd.read_csv(\"./input/train.csv\")\n",
    "test = pd.read_csv(\"./input/test.csv\")"
   ]
  },
  {
   "cell_type": "code",
   "execution_count": 25,
   "metadata": {
    "_cell_guid": "f8a7c617-975d-997d-9f55-77f94405f996"
   },
   "outputs": [],
   "source": [
    "combine = pd.concat([train.drop('Survived',1),test])"
   ]
  },
  {
   "cell_type": "markdown",
   "metadata": {
    "_cell_guid": "d76edf43-c0a9-1075-ec1d-15a7c1cc0066"
   },
   "source": [
    "<a id='explore'></a>"
   ]
  },
  {
   "cell_type": "markdown",
   "metadata": {
    "_cell_guid": "0ee4aa3d-2246-a1a1-6754-171b321c58e7"
   },
   "source": [
    "# 2. Initial Exploration"
   ]
  },
  {
   "cell_type": "code",
   "execution_count": 35,
   "metadata": {
    "_cell_guid": "a5404688-cd54-5fe5-431f-b8722d0eab85",
    "collapsed": true
   },
   "outputs": [
    {
     "data": {
      "text/html": [
       "<div>\n",
       "<style scoped>\n",
       "    .dataframe tbody tr th:only-of-type {\n",
       "        vertical-align: middle;\n",
       "    }\n",
       "\n",
       "    .dataframe tbody tr th {\n",
       "        vertical-align: top;\n",
       "    }\n",
       "\n",
       "    .dataframe thead th {\n",
       "        text-align: right;\n",
       "    }\n",
       "</style>\n",
       "<table border=\"1\" class=\"dataframe\">\n",
       "  <thead>\n",
       "    <tr style=\"text-align: right;\">\n",
       "      <th></th>\n",
       "      <th>PassengerId</th>\n",
       "      <th>Survived</th>\n",
       "      <th>Pclass</th>\n",
       "      <th>Name</th>\n",
       "      <th>Sex</th>\n",
       "      <th>Age</th>\n",
       "      <th>SibSp</th>\n",
       "      <th>Parch</th>\n",
       "      <th>Ticket</th>\n",
       "      <th>Fare</th>\n",
       "      <th>Cabin</th>\n",
       "      <th>Embarked</th>\n",
       "    </tr>\n",
       "  </thead>\n",
       "  <tbody>\n",
       "    <tr>\n",
       "      <th>0</th>\n",
       "      <td>1</td>\n",
       "      <td>0</td>\n",
       "      <td>3</td>\n",
       "      <td>Braund, Mr. Owen Harris</td>\n",
       "      <td>male</td>\n",
       "      <td>22.0</td>\n",
       "      <td>1</td>\n",
       "      <td>0</td>\n",
       "      <td>A/5 21171</td>\n",
       "      <td>7.2500</td>\n",
       "      <td>NaN</td>\n",
       "      <td>S</td>\n",
       "    </tr>\n",
       "    <tr>\n",
       "      <th>1</th>\n",
       "      <td>2</td>\n",
       "      <td>1</td>\n",
       "      <td>1</td>\n",
       "      <td>Cumings, Mrs. John Bradley (Florence Briggs Th...</td>\n",
       "      <td>female</td>\n",
       "      <td>38.0</td>\n",
       "      <td>1</td>\n",
       "      <td>0</td>\n",
       "      <td>PC 17599</td>\n",
       "      <td>71.2833</td>\n",
       "      <td>C85</td>\n",
       "      <td>C</td>\n",
       "    </tr>\n",
       "    <tr>\n",
       "      <th>2</th>\n",
       "      <td>3</td>\n",
       "      <td>1</td>\n",
       "      <td>3</td>\n",
       "      <td>Heikkinen, Miss. Laina</td>\n",
       "      <td>female</td>\n",
       "      <td>26.0</td>\n",
       "      <td>0</td>\n",
       "      <td>0</td>\n",
       "      <td>STON/O2. 3101282</td>\n",
       "      <td>7.9250</td>\n",
       "      <td>NaN</td>\n",
       "      <td>S</td>\n",
       "    </tr>\n",
       "    <tr>\n",
       "      <th>3</th>\n",
       "      <td>4</td>\n",
       "      <td>1</td>\n",
       "      <td>1</td>\n",
       "      <td>Futrelle, Mrs. Jacques Heath (Lily May Peel)</td>\n",
       "      <td>female</td>\n",
       "      <td>35.0</td>\n",
       "      <td>1</td>\n",
       "      <td>0</td>\n",
       "      <td>113803</td>\n",
       "      <td>53.1000</td>\n",
       "      <td>C123</td>\n",
       "      <td>S</td>\n",
       "    </tr>\n",
       "    <tr>\n",
       "      <th>4</th>\n",
       "      <td>5</td>\n",
       "      <td>0</td>\n",
       "      <td>3</td>\n",
       "      <td>Allen, Mr. William Henry</td>\n",
       "      <td>male</td>\n",
       "      <td>35.0</td>\n",
       "      <td>0</td>\n",
       "      <td>0</td>\n",
       "      <td>373450</td>\n",
       "      <td>8.0500</td>\n",
       "      <td>NaN</td>\n",
       "      <td>S</td>\n",
       "    </tr>\n",
       "    <tr>\n",
       "      <th>886</th>\n",
       "      <td>887</td>\n",
       "      <td>0</td>\n",
       "      <td>2</td>\n",
       "      <td>Montvila, Rev. Juozas</td>\n",
       "      <td>male</td>\n",
       "      <td>27.0</td>\n",
       "      <td>0</td>\n",
       "      <td>0</td>\n",
       "      <td>211536</td>\n",
       "      <td>13.0000</td>\n",
       "      <td>NaN</td>\n",
       "      <td>S</td>\n",
       "    </tr>\n",
       "    <tr>\n",
       "      <th>887</th>\n",
       "      <td>888</td>\n",
       "      <td>1</td>\n",
       "      <td>1</td>\n",
       "      <td>Graham, Miss. Margaret Edith</td>\n",
       "      <td>female</td>\n",
       "      <td>19.0</td>\n",
       "      <td>0</td>\n",
       "      <td>0</td>\n",
       "      <td>112053</td>\n",
       "      <td>30.0000</td>\n",
       "      <td>B42</td>\n",
       "      <td>S</td>\n",
       "    </tr>\n",
       "    <tr>\n",
       "      <th>888</th>\n",
       "      <td>889</td>\n",
       "      <td>0</td>\n",
       "      <td>3</td>\n",
       "      <td>Johnston, Miss. Catherine Helen \"Carrie\"</td>\n",
       "      <td>female</td>\n",
       "      <td>NaN</td>\n",
       "      <td>1</td>\n",
       "      <td>2</td>\n",
       "      <td>W./C. 6607</td>\n",
       "      <td>23.4500</td>\n",
       "      <td>NaN</td>\n",
       "      <td>S</td>\n",
       "    </tr>\n",
       "    <tr>\n",
       "      <th>889</th>\n",
       "      <td>890</td>\n",
       "      <td>1</td>\n",
       "      <td>1</td>\n",
       "      <td>Behr, Mr. Karl Howell</td>\n",
       "      <td>male</td>\n",
       "      <td>26.0</td>\n",
       "      <td>0</td>\n",
       "      <td>0</td>\n",
       "      <td>111369</td>\n",
       "      <td>30.0000</td>\n",
       "      <td>C148</td>\n",
       "      <td>C</td>\n",
       "    </tr>\n",
       "    <tr>\n",
       "      <th>890</th>\n",
       "      <td>891</td>\n",
       "      <td>0</td>\n",
       "      <td>3</td>\n",
       "      <td>Dooley, Mr. Patrick</td>\n",
       "      <td>male</td>\n",
       "      <td>32.0</td>\n",
       "      <td>0</td>\n",
       "      <td>0</td>\n",
       "      <td>370376</td>\n",
       "      <td>7.7500</td>\n",
       "      <td>NaN</td>\n",
       "      <td>Q</td>\n",
       "    </tr>\n",
       "  </tbody>\n",
       "</table>\n",
       "</div>"
      ],
      "text/plain": [
       "     PassengerId  Survived  Pclass  \\\n",
       "0              1         0       3   \n",
       "1              2         1       1   \n",
       "2              3         1       3   \n",
       "3              4         1       1   \n",
       "4              5         0       3   \n",
       "886          887         0       2   \n",
       "887          888         1       1   \n",
       "888          889         0       3   \n",
       "889          890         1       1   \n",
       "890          891         0       3   \n",
       "\n",
       "                                                  Name     Sex   Age  SibSp  \\\n",
       "0                              Braund, Mr. Owen Harris    male  22.0      1   \n",
       "1    Cumings, Mrs. John Bradley (Florence Briggs Th...  female  38.0      1   \n",
       "2                               Heikkinen, Miss. Laina  female  26.0      0   \n",
       "3         Futrelle, Mrs. Jacques Heath (Lily May Peel)  female  35.0      1   \n",
       "4                             Allen, Mr. William Henry    male  35.0      0   \n",
       "886                              Montvila, Rev. Juozas    male  27.0      0   \n",
       "887                       Graham, Miss. Margaret Edith  female  19.0      0   \n",
       "888           Johnston, Miss. Catherine Helen \"Carrie\"  female   NaN      1   \n",
       "889                              Behr, Mr. Karl Howell    male  26.0      0   \n",
       "890                                Dooley, Mr. Patrick    male  32.0      0   \n",
       "\n",
       "     Parch            Ticket     Fare Cabin Embarked  \n",
       "0        0         A/5 21171   7.2500   NaN        S  \n",
       "1        0          PC 17599  71.2833   C85        C  \n",
       "2        0  STON/O2. 3101282   7.9250   NaN        S  \n",
       "3        0            113803  53.1000  C123        S  \n",
       "4        0            373450   8.0500   NaN        S  \n",
       "886      0            211536  13.0000   NaN        S  \n",
       "887      0            112053  30.0000   B42        S  \n",
       "888      2        W./C. 6607  23.4500   NaN        S  \n",
       "889      0            111369  30.0000  C148        C  \n",
       "890      0            370376   7.7500   NaN        Q  "
      ]
     },
     "execution_count": 35,
     "metadata": {},
     "output_type": "execute_result"
    }
   ],
   "source": [
    "pd.concat([train.head(5),train.tail(5)])"
   ]
  },
  {
   "cell_type": "markdown",
   "metadata": {
    "_cell_guid": "29c47f4d-3b65-863a-501a-4ddb4c9b0847"
   },
   "source": [
    "Together with the PassengerId which is just a running index and the indication whether this passenger survived (1) or not (0) we have the following information for each person:\n",
    "\n",
    "- *Pclass* is the Ticket-class: first (1), second (2), and third (3) class tickets were used. This is an ordinal integer feature. \n",
    "\n",
    "- *Name* is the name of the passenger. The names also contain titles and some persons might share the same surname; indicating family relations. We know that some titles can indicate a certain age group. For instance *Master* is a boy while *Mr* is a man. This feature is a character string of variable length but similar format.\n",
    "\n",
    "- *Sex* is an indicator whether the passenger was female or male. This is a categorical text string feature. \n",
    "\n",
    "- *Age* is the integer age of the passenger. There are NaN values in this column.\n",
    "\n",
    "- *SibSp* is another ordinal integer feature describing the number of siblings or spouses travelling with each passenger.\n",
    "\n",
    "- *Parch* is another ordinal integer features that gives the number of parents or children travelling with each passenger.\n",
    "\n",
    "- *Ticket* is a character string of variable length that gives the ticket number.\n",
    "\n",
    "- *Fare* is a float feature showing how much each passenger paid for their rather memorable journey.\n",
    "\n",
    "- *Cabin* gives the cabin number of each passenger. There are NaN in this column. This is another string feature.\n",
    "\n",
    "- *Embarked* shows the port of embarkation as a categorical character value.\n",
    "\n",
    "In summary we have 1 floating point feature (*Fare*), 1 integer variable (*Age*), 3 ordinal integer features (*Plcass, SibSp, Parch*), 2 categorical text features (*Sex, Embarked*), and 3 text string features (*Ticket, Cabin, Name*)."
   ]
  },
  {
   "cell_type": "code",
   "execution_count": 36,
   "metadata": {
    "_cell_guid": "b8ebaedd-b0dd-e983-138b-68e49e82e3eb"
   },
   "outputs": [
    {
     "data": {
      "text/html": [
       "<div>\n",
       "<style scoped>\n",
       "    .dataframe tbody tr th:only-of-type {\n",
       "        vertical-align: middle;\n",
       "    }\n",
       "\n",
       "    .dataframe tbody tr th {\n",
       "        vertical-align: top;\n",
       "    }\n",
       "\n",
       "    .dataframe thead th {\n",
       "        text-align: right;\n",
       "    }\n",
       "</style>\n",
       "<table border=\"1\" class=\"dataframe\">\n",
       "  <thead>\n",
       "    <tr style=\"text-align: right;\">\n",
       "      <th></th>\n",
       "      <th>PassengerId</th>\n",
       "      <th>Survived</th>\n",
       "      <th>Pclass</th>\n",
       "      <th>Age</th>\n",
       "      <th>SibSp</th>\n",
       "      <th>Parch</th>\n",
       "      <th>Fare</th>\n",
       "    </tr>\n",
       "  </thead>\n",
       "  <tbody>\n",
       "    <tr>\n",
       "      <th>count</th>\n",
       "      <td>891.000000</td>\n",
       "      <td>891.000000</td>\n",
       "      <td>891.000000</td>\n",
       "      <td>714.000000</td>\n",
       "      <td>891.000000</td>\n",
       "      <td>891.000000</td>\n",
       "      <td>891.000000</td>\n",
       "    </tr>\n",
       "    <tr>\n",
       "      <th>mean</th>\n",
       "      <td>446.000000</td>\n",
       "      <td>0.383838</td>\n",
       "      <td>2.308642</td>\n",
       "      <td>29.699118</td>\n",
       "      <td>0.523008</td>\n",
       "      <td>0.381594</td>\n",
       "      <td>32.204208</td>\n",
       "    </tr>\n",
       "    <tr>\n",
       "      <th>std</th>\n",
       "      <td>257.353842</td>\n",
       "      <td>0.486592</td>\n",
       "      <td>0.836071</td>\n",
       "      <td>14.526497</td>\n",
       "      <td>1.102743</td>\n",
       "      <td>0.806057</td>\n",
       "      <td>49.693429</td>\n",
       "    </tr>\n",
       "    <tr>\n",
       "      <th>min</th>\n",
       "      <td>1.000000</td>\n",
       "      <td>0.000000</td>\n",
       "      <td>1.000000</td>\n",
       "      <td>0.420000</td>\n",
       "      <td>0.000000</td>\n",
       "      <td>0.000000</td>\n",
       "      <td>0.000000</td>\n",
       "    </tr>\n",
       "    <tr>\n",
       "      <th>25%</th>\n",
       "      <td>223.500000</td>\n",
       "      <td>0.000000</td>\n",
       "      <td>2.000000</td>\n",
       "      <td>20.125000</td>\n",
       "      <td>0.000000</td>\n",
       "      <td>0.000000</td>\n",
       "      <td>7.910400</td>\n",
       "    </tr>\n",
       "    <tr>\n",
       "      <th>50%</th>\n",
       "      <td>446.000000</td>\n",
       "      <td>0.000000</td>\n",
       "      <td>3.000000</td>\n",
       "      <td>28.000000</td>\n",
       "      <td>0.000000</td>\n",
       "      <td>0.000000</td>\n",
       "      <td>14.454200</td>\n",
       "    </tr>\n",
       "    <tr>\n",
       "      <th>75%</th>\n",
       "      <td>668.500000</td>\n",
       "      <td>1.000000</td>\n",
       "      <td>3.000000</td>\n",
       "      <td>38.000000</td>\n",
       "      <td>1.000000</td>\n",
       "      <td>0.000000</td>\n",
       "      <td>31.000000</td>\n",
       "    </tr>\n",
       "    <tr>\n",
       "      <th>max</th>\n",
       "      <td>891.000000</td>\n",
       "      <td>1.000000</td>\n",
       "      <td>3.000000</td>\n",
       "      <td>80.000000</td>\n",
       "      <td>8.000000</td>\n",
       "      <td>6.000000</td>\n",
       "      <td>512.329200</td>\n",
       "    </tr>\n",
       "  </tbody>\n",
       "</table>\n",
       "</div>"
      ],
      "text/plain": [
       "       PassengerId    Survived      Pclass         Age       SibSp  \\\n",
       "count   891.000000  891.000000  891.000000  714.000000  891.000000   \n",
       "mean    446.000000    0.383838    2.308642   29.699118    0.523008   \n",
       "std     257.353842    0.486592    0.836071   14.526497    1.102743   \n",
       "min       1.000000    0.000000    1.000000    0.420000    0.000000   \n",
       "25%     223.500000    0.000000    2.000000   20.125000    0.000000   \n",
       "50%     446.000000    0.000000    3.000000   28.000000    0.000000   \n",
       "75%     668.500000    1.000000    3.000000   38.000000    1.000000   \n",
       "max     891.000000    1.000000    3.000000   80.000000    8.000000   \n",
       "\n",
       "            Parch        Fare  \n",
       "count  891.000000  891.000000  \n",
       "mean     0.381594   32.204208  \n",
       "std      0.806057   49.693429  \n",
       "min      0.000000    0.000000  \n",
       "25%      0.000000    7.910400  \n",
       "50%      0.000000   14.454200  \n",
       "75%      0.000000   31.000000  \n",
       "max      6.000000  512.329200  "
      ]
     },
     "execution_count": 36,
     "metadata": {},
     "output_type": "execute_result"
    }
   ],
   "source": [
    "train.describe()"
   ]
  },
  {
   "cell_type": "markdown",
   "metadata": {
    "_cell_guid": "1f01c055-94c4-bc7e-e492-bd37746b8019"
   },
   "source": [
    "The minimum/maxim values for pclass, age, sibsp, parch show us the range of these features. Also we see that there's quite a range in fares."
   ]
  },
  {
   "cell_type": "markdown",
   "metadata": {
    "_cell_guid": "82391281-5669-47fb-39de-a6460223ffcc"
   },
   "source": [
    "### *Missing values*"
   ]
  },
  {
   "cell_type": "code",
   "execution_count": 37,
   "metadata": {
    "_cell_guid": "907a041f-d1da-516d-e237-462b3ed11ac9"
   },
   "outputs": [
    {
     "name": "stdout",
     "output_type": "stream",
     "text": [
      "PassengerId      0\n",
      "Survived         0\n",
      "Pclass           0\n",
      "Name             0\n",
      "Sex              0\n",
      "Age            177\n",
      "SibSp            0\n",
      "Parch            0\n",
      "Ticket           0\n",
      "Fare             0\n",
      "Cabin          687\n",
      "Embarked         2\n",
      "dtype: int64\n",
      "<class 'pandas.core.frame.DataFrame'>\n",
      "RangeIndex: 418 entries, 0 to 417\n",
      "Data columns (total 11 columns):\n",
      "PassengerId    418 non-null int64\n",
      "Pclass         418 non-null int64\n",
      "Name           418 non-null object\n",
      "Sex            418 non-null object\n",
      "Age            332 non-null float64\n",
      "SibSp          418 non-null int64\n",
      "Parch          418 non-null int64\n",
      "Ticket         418 non-null object\n",
      "Fare           417 non-null float64\n",
      "Cabin          91 non-null object\n",
      "Embarked       418 non-null object\n",
      "dtypes: float64(2), int64(4), object(5)\n",
      "memory usage: 36.0+ KB\n",
      "None\n"
     ]
    }
   ],
   "source": [
    "print(train.isnull().sum())\n",
    "print(test.info())"
   ]
  },
  {
   "cell_type": "markdown",
   "metadata": {
    "_cell_guid": "0b174398-7143-e60e-576f-83202ea9131e"
   },
   "source": [
    "Knowing about missing values is important because they indicate how much we don't know about our data.  Making inferences based on just a few cases is often unwise. In addition, many modelling procedures break down when missing values are involved and the corresponding rows will either have to be removed completely or the values need to be estimated somehow.\n",
    "\n",
    "**We learn:**\n",
    "\n",
    "- In the **training data** a large majority of *Cabin* numbers are missing, together with 177 *Age* values and 2 *Embarked* values. \n",
    "\n",
    "- Also, in the **test** data there is one *Fare* missing (cheeky selection), almost 100 *Age* values are unknown, and only 91 *Cabin* numbers were preserved. Best to keep that in mind."
   ]
  },
  {
   "cell_type": "code",
   "execution_count": 44,
   "metadata": {
    "_cell_guid": "0ac2bae7-7003-d799-436d-13cedeea4eae",
    "collapsed": true
   },
   "outputs": [
    {
     "name": "stdout",
     "output_type": "stream",
     "text": [
      "Survived: 342 (38.4 percent), Not Survived: 549 (61.6 percent), Total: 891\n"
     ]
    }
   ],
   "source": [
    "surv = train[train['Survived']==1]\n",
    "nosurv = train[train['Survived']==0]\n",
    "surv_col = \"blue\"\n",
    "nosurv_col = \"red\"\n",
    "\n",
    "print(\"Survived: %i (%.1f percent), Not Survived: %i (%.1f percent), Total: %i\"\\\n",
    "      %(len(surv), 1.*len(surv)/len(train)*100.0,\\\n",
    "        len(nosurv), 1.*len(nosurv)/len(train)*100.0, len(train)))"
   ]
  },
  {
   "cell_type": "code",
   "execution_count": 47,
   "metadata": {},
   "outputs": [
    {
     "data": {
      "text/html": [
       "<div>\n",
       "<style scoped>\n",
       "    .dataframe tbody tr th:only-of-type {\n",
       "        vertical-align: middle;\n",
       "    }\n",
       "\n",
       "    .dataframe tbody tr th {\n",
       "        vertical-align: top;\n",
       "    }\n",
       "\n",
       "    .dataframe thead th {\n",
       "        text-align: right;\n",
       "    }\n",
       "</style>\n",
       "<table border=\"1\" class=\"dataframe\">\n",
       "  <thead>\n",
       "    <tr style=\"text-align: right;\">\n",
       "      <th></th>\n",
       "      <th>PassengerId</th>\n",
       "      <th>Survived</th>\n",
       "      <th>Pclass</th>\n",
       "      <th>Name</th>\n",
       "      <th>Sex</th>\n",
       "      <th>Age</th>\n",
       "      <th>SibSp</th>\n",
       "      <th>Parch</th>\n",
       "      <th>Ticket</th>\n",
       "      <th>Fare</th>\n",
       "      <th>Cabin</th>\n",
       "      <th>Embarked</th>\n",
       "    </tr>\n",
       "  </thead>\n",
       "  <tbody>\n",
       "    <tr>\n",
       "      <th>0</th>\n",
       "      <td>1</td>\n",
       "      <td>0</td>\n",
       "      <td>3</td>\n",
       "      <td>Braund, Mr. Owen Harris</td>\n",
       "      <td>male</td>\n",
       "      <td>22.0</td>\n",
       "      <td>1</td>\n",
       "      <td>0</td>\n",
       "      <td>A/5 21171</td>\n",
       "      <td>7.2500</td>\n",
       "      <td>NaN</td>\n",
       "      <td>S</td>\n",
       "    </tr>\n",
       "    <tr>\n",
       "      <th>1</th>\n",
       "      <td>2</td>\n",
       "      <td>1</td>\n",
       "      <td>1</td>\n",
       "      <td>Cumings, Mrs. John Bradley (Florence Briggs Th...</td>\n",
       "      <td>female</td>\n",
       "      <td>38.0</td>\n",
       "      <td>1</td>\n",
       "      <td>0</td>\n",
       "      <td>PC 17599</td>\n",
       "      <td>71.2833</td>\n",
       "      <td>C85</td>\n",
       "      <td>C</td>\n",
       "    </tr>\n",
       "    <tr>\n",
       "      <th>2</th>\n",
       "      <td>3</td>\n",
       "      <td>1</td>\n",
       "      <td>3</td>\n",
       "      <td>Heikkinen, Miss. Laina</td>\n",
       "      <td>female</td>\n",
       "      <td>26.0</td>\n",
       "      <td>0</td>\n",
       "      <td>0</td>\n",
       "      <td>STON/O2. 3101282</td>\n",
       "      <td>7.9250</td>\n",
       "      <td>NaN</td>\n",
       "      <td>S</td>\n",
       "    </tr>\n",
       "    <tr>\n",
       "      <th>3</th>\n",
       "      <td>4</td>\n",
       "      <td>1</td>\n",
       "      <td>1</td>\n",
       "      <td>Futrelle, Mrs. Jacques Heath (Lily May Peel)</td>\n",
       "      <td>female</td>\n",
       "      <td>35.0</td>\n",
       "      <td>1</td>\n",
       "      <td>0</td>\n",
       "      <td>113803</td>\n",
       "      <td>53.1000</td>\n",
       "      <td>C123</td>\n",
       "      <td>S</td>\n",
       "    </tr>\n",
       "    <tr>\n",
       "      <th>4</th>\n",
       "      <td>5</td>\n",
       "      <td>0</td>\n",
       "      <td>3</td>\n",
       "      <td>Allen, Mr. William Henry</td>\n",
       "      <td>male</td>\n",
       "      <td>35.0</td>\n",
       "      <td>0</td>\n",
       "      <td>0</td>\n",
       "      <td>373450</td>\n",
       "      <td>8.0500</td>\n",
       "      <td>NaN</td>\n",
       "      <td>S</td>\n",
       "    </tr>\n",
       "  </tbody>\n",
       "</table>\n",
       "</div>"
      ],
      "text/plain": [
       "   PassengerId  Survived  Pclass  \\\n",
       "0            1         0       3   \n",
       "1            2         1       1   \n",
       "2            3         1       3   \n",
       "3            4         1       1   \n",
       "4            5         0       3   \n",
       "\n",
       "                                                Name     Sex   Age  SibSp  \\\n",
       "0                            Braund, Mr. Owen Harris    male  22.0      1   \n",
       "1  Cumings, Mrs. John Bradley (Florence Briggs Th...  female  38.0      1   \n",
       "2                             Heikkinen, Miss. Laina  female  26.0      0   \n",
       "3       Futrelle, Mrs. Jacques Heath (Lily May Peel)  female  35.0      1   \n",
       "4                           Allen, Mr. William Henry    male  35.0      0   \n",
       "\n",
       "   Parch            Ticket     Fare Cabin Embarked  \n",
       "0      0         A/5 21171   7.2500   NaN        S  \n",
       "1      0          PC 17599  71.2833   C85        C  \n",
       "2      0  STON/O2. 3101282   7.9250   NaN        S  \n",
       "3      0            113803  53.1000  C123        S  \n",
       "4      0            373450   8.0500   NaN        S  "
      ]
     },
     "execution_count": 47,
     "metadata": {},
     "output_type": "execute_result"
    }
   ],
   "source": [
    "train.head()"
   ]
  },
  {
   "cell_type": "code",
   "execution_count": 45,
   "metadata": {
    "_cell_guid": "f4e79f1f-3729-68ad-63d9-443f40071233"
   },
   "outputs": [
    {
     "name": "stdout",
     "output_type": "stream",
     "text": [
      "Median age survivors: 28.0, Median age non-survivers: 28.0\n"
     ]
    },
    {
     "data": {
      "image/png": "[encoded data removed]",
      "text/plain": [
       "<matplotlib.figure.Figure at 0x10fae7c50>"
      ]
     },
     "metadata": {},
     "output_type": "display_data"
    }
   ],
   "source": [
    "warnings.filterwarnings(action=\"ignore\")\n",
    "plt.figure(figsize=[12,10])\n",
    "plt.subplot(331)\n",
    "sns.distplot(surv['Age'].dropna().values, bins=range(0, 81, 1), kde=False, color=surv_col)\n",
    "sns.distplot(nosurv['Age'].dropna().values, bins=range(0, 81, 1), kde=False, color=nosurv_col,\n",
    "            axlabel='Age')\n",
    "plt.subplot(332)\n",
    "sns.barplot('Sex', 'Survived', data=train)\n",
    "plt.subplot(333)\n",
    "sns.barplot('Pclass', 'Survived', data=train)\n",
    "plt.subplot(334)\n",
    "sns.barplot('Embarked', 'Survived', data=train)\n",
    "plt.subplot(335)\n",
    "sns.barplot('SibSp', 'Survived', data=train)\n",
    "plt.subplot(336)\n",
    "sns.barplot('Parch', 'Survived', data=train)\n",
    "plt.subplot(337)\n",
    "sns.distplot(np.log10(surv['Fare'].dropna().values+1), kde=False, color=surv_col)\n",
    "sns.distplot(np.log10(nosurv['Fare'].dropna().values+1), kde=False, color=nosurv_col,axlabel='Fare')\n",
    "plt.subplots_adjust(top=0.92, bottom=0.08, left=0.10, right=0.95, hspace=0.25,\n",
    "                    wspace=0.35)\n",
    "\n",
    "print(\"Median age survivors: %.1f, Median age non-survivers: %.1f\"\\\n",
    "      %(np.median(surv['Age'].dropna()), np.median(nosurv['Age'].dropna())))"
   ]
  },
  {
   "cell_type": "markdown",
   "metadata": {
    "_cell_guid": "7cd2d16c-9991-d451-34f9-775a2ac76a8d"
   },
   "source": [
    "Above we are creating a kind of summary dashboard, where we collect relevant visualisations to study the distributions of the individual features. We use the matplotlib *subplot* tool to line up the individual plots in a grid. We use overlapping histograms for ordinal features and barplots for categorical features. The barplots show the fraction of people (per group) who survived. There's a lot going on in this figure, so take your time to look at all the details.\n",
    "\n",
    "**We learn** the following things from studying the individual features:\n",
    "\n",
    "- *Age:* The medians are identical. However, it's noticeable that fewer young adults have survived (ages 18 - 30-ish) whereas **children younger than 10-ish had a better survival rate.** Also, there are no obvious outliers that would indicate problematic input data. The highest ages are well consistent with the overall distribution. There is a notable shortage of teenagers compared to the crowd of younger kids. But this could have natural reasons.\n",
    "\n",
    "- *Pclass:* There's a clear trend that **being a 1st class passenger gives you better chances of survival**. Life just isn't fair.\n",
    "\n",
    "- *SibSp & Parch:* **Having 1-3 siblings/spouses/parents/children on board (SibSp = 1-2, Parch = 1-3) suggests proportionally better survival numbers than being alone (SibSp + Parch = 0) or having a large family travelling with you.**\n",
    "\n",
    "- *Embarked:* Well, that does look more interesting than expected.  **Embarking at \"C\" resulted in a higher survival rate than embarking at \"S\"**. There might be a correlation with other variables, here though.\n",
    "\n",
    "- *Fare:* This is case where a linear scaling isn't of much help because there is a smaller number of more extreme numbers. A natural choice in this case is to transform the values logarithmically. For this to work we need to adjust for the zero-fare entries.  The plot tells us that the **survival chances were much lower for the cheaper cabins**. Naively, one would assume that those cheap cabins were mostly located deeper inside the ship, i.e. further away from the life boats."
   ]
  },
  {
   "cell_type": "markdown",
   "metadata": {
    "_cell_guid": "e7b3f4bc-f7e9-d229-3417-f7f0fe684d14"
   },
   "source": [
    "A little follow up: For *SibSp* we see in the plot that most of the differences are not very significant (overlapping error bars). Another way of checking the actual numbers are through *cross tables*:"
   ]
  },
  {
   "cell_type": "code",
   "execution_count": 61,
   "metadata": {
    "_cell_guid": "610f51d9-3247-b950-10d8-b4e1de069c29"
   },
   "outputs": [
    {
     "name": "stdout",
     "output_type": "stream",
     "text": [
      "Survived    0    1\n",
      "SibSp             \n",
      "0         398  210\n",
      "1          97  112\n",
      "2          15   13\n",
      "3          12    4\n",
      "4          15    3\n",
      "5           5    0\n",
      "8           7    0\n"
     ]
    }
   ],
   "source": [
    "tab = pd.crosstab(train['SibSp'], train['Survived'])\n",
    "print(tab)\n",
    "# dummy = tab.div(tab.sum(1).astype(float), axis=0).plot(kind=\"bar\", \n",
    "#                         stacked=True, color=[nosurv_col,surv_col])\n",
    "# dummy = plt.xlabel('SibSp')\n",
    "# dummy = plt.ylabel('Percentage')"
   ]
  },
  {
   "cell_type": "markdown",
   "metadata": {
    "_cell_guid": "cb2de15f-3177-442e-8adb-a275c9a4330e"
   },
   "source": [
    " Passengers with more than 3 children+parents on board had low survival chances. However the corresponding number are not very large. For SibSp we have 15 vs 3, 5 vs 0, and 7 vs 0.\n",
    "\n",
    "Random outcomes with 2 possibilities (like *heads or tails* when flipping a coin) follow the [binomial distribution](https://en.wikipedia.org/wiki/Binomial_distribution). We can use a *binomial test* to estimate the probability that 5 non-survivors out of a total 5 passengers with SibSp = 5 happened due to chance assuming the overall 38% survival chance for the entire sample."
   ]
  },
  {
   "cell_type": "code",
   "execution_count": 62,
   "metadata": {
    "_cell_guid": "1af90770-b52e-2ba7-d2a6-36f91af8449b"
   },
   "outputs": [
    {
     "data": {
      "text/plain": [
       "0.16417601599999998"
      ]
     },
     "execution_count": 62,
     "metadata": {},
     "output_type": "execute_result"
    }
   ],
   "source": [
    "stats.binom_test(x=5,n=5,p=0.62)"
   ]
  },
  {
   "cell_type": "markdown",
   "metadata": {
    "_cell_guid": "2b2c444d-e6b8-2249-4e2e-c7d9ef0a382e"
   },
   "source": [
    "Anything above 0.05 is usually not significant and therefore solely based on these numbers we cannot say whether the SibSp = 5 sample behaves different than the rest.\n",
    "\n",
    "For larger numbers of Parch we have 4 vs 0, 4 vs 1, and 1 vs 0. Just by themselves, the last two are definitely not impressive. Combining them into parch >= 4 gives us 9 vs 1 which is much better.\n",
    "\n",
    "**We learn:** parch >= 4 and sibsp >= 3 is bad. So is parch + sibsp = 0 (i.e. both 0). Parch in 1-3 and Sibsp in 1-2 is good."
   ]
  },
  {
   "cell_type": "markdown",
   "metadata": {
    "_cell_guid": "e39d131f-ee82-c8c4-11bb-5e6ee9118b44"
   },
   "source": [
    "### *Cabin numbers*"
   ]
  },
  {
   "cell_type": "markdown",
   "metadata": {
    "_cell_guid": "ee1d9941-0794-a2ac-a23d-7392d993edd9"
   },
   "source": [
    "This is a tricky feature because there are so many missing values and the strings don't all have the same number or formatting."
   ]
  },
  {
   "cell_type": "code",
   "execution_count": 63,
   "metadata": {
    "_cell_guid": "b14926cf-e697-b9ea-7102-6ab43bdd9e8d"
   },
   "outputs": [
    {
     "name": "stdout",
     "output_type": "stream",
     "text": [
      "We know 204 of 891 Cabin numbers in the training data set and\n",
      "we know 91 of 418 Cabin numbers in the testing data set.\n"
     ]
    },
    {
     "data": {
      "text/html": [
       "<div>\n",
       "<style scoped>\n",
       "    .dataframe tbody tr th:only-of-type {\n",
       "        vertical-align: middle;\n",
       "    }\n",
       "\n",
       "    .dataframe tbody tr th {\n",
       "        vertical-align: top;\n",
       "    }\n",
       "\n",
       "    .dataframe thead th {\n",
       "        text-align: right;\n",
       "    }\n",
       "</style>\n",
       "<table border=\"1\" class=\"dataframe\">\n",
       "  <thead>\n",
       "    <tr style=\"text-align: right;\">\n",
       "      <th></th>\n",
       "      <th>Survived</th>\n",
       "      <th>Cabin</th>\n",
       "    </tr>\n",
       "  </thead>\n",
       "  <tbody>\n",
       "    <tr>\n",
       "      <th>1</th>\n",
       "      <td>1</td>\n",
       "      <td>C85</td>\n",
       "    </tr>\n",
       "    <tr>\n",
       "      <th>3</th>\n",
       "      <td>1</td>\n",
       "      <td>C123</td>\n",
       "    </tr>\n",
       "    <tr>\n",
       "      <th>6</th>\n",
       "      <td>0</td>\n",
       "      <td>E46</td>\n",
       "    </tr>\n",
       "    <tr>\n",
       "      <th>10</th>\n",
       "      <td>1</td>\n",
       "      <td>G6</td>\n",
       "    </tr>\n",
       "    <tr>\n",
       "      <th>11</th>\n",
       "      <td>1</td>\n",
       "      <td>C103</td>\n",
       "    </tr>\n",
       "    <tr>\n",
       "      <th>21</th>\n",
       "      <td>1</td>\n",
       "      <td>D56</td>\n",
       "    </tr>\n",
       "    <tr>\n",
       "      <th>23</th>\n",
       "      <td>1</td>\n",
       "      <td>A6</td>\n",
       "    </tr>\n",
       "    <tr>\n",
       "      <th>27</th>\n",
       "      <td>0</td>\n",
       "      <td>C23 C25 C27</td>\n",
       "    </tr>\n",
       "  </tbody>\n",
       "</table>\n",
       "</div>"
      ],
      "text/plain": [
       "    Survived        Cabin\n",
       "1          1          C85\n",
       "3          1         C123\n",
       "6          0          E46\n",
       "10         1           G6\n",
       "11         1         C103\n",
       "21         1          D56\n",
       "23         1           A6\n",
       "27         0  C23 C25 C27"
      ]
     },
     "execution_count": 63,
     "metadata": {},
     "output_type": "execute_result"
    }
   ],
   "source": [
    "print(\"We know %i of %i Cabin numbers in the training data set and\"\n",
    "      %(len(train['Cabin'].dropna()), len(train)))\n",
    "print(\"we know %i of %i Cabin numbers in the testing data set.\"\n",
    "      %(len(test['Cabin'].dropna()), len(test)))\n",
    "train.loc[:,['Survived','Cabin']].dropna().head(8)"
   ]
  },
  {
   "cell_type": "markdown",
   "metadata": {
    "_cell_guid": "1a039273-9a8e-d948-0b71-1875513d90b8"
   },
   "source": [
    "**We can try out:**\n",
    "\n",
    "- I suppose one could take the starting letters, which might indicate specific decks on the ship, and use them as an additional classifier. But for less than 25% of cabins known this might not be very useful. We'll see.\n",
    "\n",
    "- Also, given that so few cabin numbers are know it doesn't seem that there are good records of them. Therefore, one should assume that it's more likely to know someone's cabin number if they survived. Let's see about that in the derived features.\n",
    "\n",
    "*TODO: Why do some people have multiple cabin numbers? What does that mean?*"
   ]
  },
  {
   "cell_type": "markdown",
   "metadata": {
    "_cell_guid": "73a58036-92fd-0383-f3c2-68246872f139"
   },
   "source": [
    "## *Ticket numbers*"
   ]
  },
  {
   "cell_type": "markdown",
   "metadata": {
    "_cell_guid": "ad417d32-f31b-7613-37b4-f84a88977ce6"
   },
   "source": [
    "That seems to be a hopeless variable at first because it just looks like random strings. But in these days, when you were travelling as a group/family did everyone really get their own ticket? Let's find out how many unique ticket numbers there are:"
   ]
  },
  {
   "cell_type": "code",
   "execution_count": 64,
   "metadata": {
    "_cell_guid": "2eb998cf-70db-33e9-ee0d-ac63c16fb770"
   },
   "outputs": [
    {
     "name": "stdout",
     "output_type": "stream",
     "text": [
      "There are 681 unique ticket numbers among the 891 tickets.\n"
     ]
    }
   ],
   "source": [
    "print(\"There are %i unique ticket numbers among the %i tickets.\" \\\n",
    "      %(train['Ticket'].nunique(),train['Ticket'].count()))"
   ]
  },
  {
   "cell_type": "markdown",
   "metadata": {
    "_cell_guid": "b8d790ab-02b1-8553-426e-7a006a19b7e4"
   },
   "source": [
    "Interesting. Sharing a ticket number is not uncommon. Let's follow that up a bit."
   ]
  },
  {
   "cell_type": "code",
   "execution_count": 93,
   "metadata": {
    "_cell_guid": "10d70d25-4896-b9f4-993d-aaef3f1c96ca"
   },
   "outputs": [
    {
     "name": "stdout",
     "output_type": "stream",
     "text": [
      "     Survived                                               Name  Fare\n",
      "257         1                               Cherry, Miss. Gladys  86.5\n",
      "504         1                              Maioni, Miss. Roberta  86.5\n",
      "759         1  Rothes, the Countess. of (Lucy Noel Martha Dye...  86.5\n",
      "     Survived                                    Name   Fare\n",
      "262         0                       Taussig, Mr. Emil  79.65\n",
      "558         1  Taussig, Mrs. Emil (Tillie Mandelbaum)  79.65\n",
      "585         1                     Taussig, Miss. Ruth  79.65\n",
      "     Survived                            Name  Fare\n",
      "110         0  Porter, Mr. Walter Chamberlain  52.0\n",
      "475         0     Clifford, Mr. George Quincy  52.0\n",
      "     Survived                                             Name     Fare\n",
      "329         1                     Hippach, Miss. Jean Gertrude  57.9792\n",
      "523         1  Hippach, Mrs. Louis Albert (Ida Sophia Fischer)  57.9792\n",
      "     Survived                                    Name  Fare\n",
      "166         1  Chibnall, Mrs. (Edith Martha Bowerman)  55.0\n",
      "356         1             Bowerman, Miss. Elsie Edith  55.0\n",
      "     Survived                                       Name  Fare\n",
      "61          1                        Icard, Miss. Amelie  80.0\n",
      "829         1  Stone, Mrs. George Nelson (Martha Evelyn)  80.0\n",
      "     Survived                                       Name   Fare\n",
      "390         1                 Carter, Mr. William Ernest  120.0\n",
      "435         1                  Carter, Miss. Lucile Polk  120.0\n",
      "763         1  Carter, Mrs. William Ernest (Lucile Polk)  120.0\n",
      "802         1        Carter, Master. William Thornton II  120.0\n",
      "     Survived                               Name  Fare\n",
      "151         1  Pears, Mrs. Thomas (Edith Wearne)  66.6\n",
      "336         0          Pears, Mr. Thomas Clinton  66.6\n",
      "     Survived                                             Name    Fare\n",
      "297         0                     Allison, Miss. Helen Loraine  151.55\n",
      "305         1                   Allison, Master. Hudson Trevor  151.55\n",
      "498         0  Allison, Mrs. Hudson J C (Bessie Waldo Daniels)  151.55\n",
      "708         1                             Cleaver, Miss. Alice  151.55\n",
      "     Survived                                               Name  Fare\n",
      "35          0                     Holverson, Mr. Alexander Oskar  52.0\n",
      "383         1  Holverson, Mrs. Alexander Oskar (Mary Aline To...  52.0\n",
      "     Survived                     Name  Fare\n",
      "270         0    Cairns, Mr. Alexander  31.0\n",
      "842         1  Serepeca, Miss. Augusta  31.0\n"
     ]
    }
   ],
   "source": [
    "grouped = train.groupby('Ticket')\n",
    "k = 0\n",
    "for name, group in grouped:\n",
    "    if (len(grouped.get_group(name)) > 1):\n",
    "        print(group.loc[:,['Survived','Name', 'Fare']])\n",
    "        k += 1\n",
    "    if (k>10):\n",
    "        break"
   ]
  },
  {
   "cell_type": "markdown",
   "metadata": {
    "_cell_guid": "e8d600bf-888a-0eda-ee03-aaa79e580aff"
   },
   "source": [
    "**We can try out:**\n",
    "\n",
    "Working hypothesis: if your group (mostly family) survived then you survived as well, unless you were a man (and presumably helped your wife/daughter/lady friend). We could go through the trouble here to identify families by last name. However\n",
    "\n",
    " 1. Common last names might not be unique in the passenger list\n",
    " 2. As we see above a ticket is not always shared by people with a common name.\n",
    "\n",
    "Therefore, a shared ticket might actually be a stronger predictor. Of course this assumption should be tested by doing the last-name thing too. In addition, we see that the *Fare* was identical for all the passengers in each ticket group. This is something we will explore in more detail below."
   ]
  },
  {
   "cell_type": "markdown",
   "metadata": {
    "_cell_guid": "bd04b794-98d4-c25a-5a96-04ddec8989ba"
   },
   "source": [
    "<a id='relations'></a>"
   ]
  },
  {
   "cell_type": "markdown",
   "metadata": {
    "_cell_guid": "67729bcd-5d2b-5ae1-0772-b9dc4267cfcd"
   },
   "source": [
    "[Go to the top of the page](#top)"
   ]
  },
  {
   "cell_type": "markdown",
   "metadata": {
    "_cell_guid": "f9e59726-ac1c-ab90-22d1-f95ac8cd5086"
   },
   "source": [
    "# 3. Relations between features"
   ]
  },
  {
   "cell_type": "markdown",
   "metadata": {
    "_cell_guid": "850add51-626c-5800-25c8-56858fc56839"
   },
   "source": [
    "After inspecting the available features individually you might have realised that some of them are likely to be connected. Does the age-dependent survival change with sex? How are pclass and fare related? Are they strongly enough connected so that one of them is superfluous? Let's find out.\n",
    "\n",
    "Now we are connecting individual clues to get a glimpse of the bigger picture."
   ]
  },
  {
   "cell_type": "markdown",
   "metadata": {
    "_cell_guid": "7f33c012-6ad8-e7e9-dbde-5ff1791c0edc"
   },
   "source": [
    "We start with an **overview plot of the feature relations:** Here we show a *correlation matrix* for each numerical variable with all the other numerical variables. We excluded *PassengerID*, which is merely a row index. In the plot, stronger correlations have brighter colours in either red (positive correlation) or blue (negative correlation). The closer to white a colour is the weaker the correlation. "
   ]
  },
  {
   "cell_type": "code",
   "execution_count": 141,
   "metadata": {
    "_cell_guid": "1566c354-2bb2-796a-9181-8cbd2faf7019"
   },
   "outputs": [
    {
     "data": {
      "image/png": "[encoded data removed]",
      "text/plain": [
       "<matplotlib.figure.Figure at 0x1a24732550>"
      ]
     },
     "metadata": {},
     "output_type": "display_data"
    }
   ],
   "source": [
    "plt.figure(figsize=(14,12))\n",
    "foo = sns.heatmap(train.drop('PassengerId',axis=1).corr(), vmax=0.6, square=True, annot=True\n",
    "                 )"
   ]
  },
  {
   "cell_type": "markdown",
   "metadata": {
    "_cell_guid": "1d372f2c-8ee8-1605-0811-ad60753e0a46"
   },
   "source": [
    "*Positive vs negative correlation* needs to be understood in terms of whether an increase in one feature leads to an increase (positive) or decrease (negative) in the correlated feature. Perfect correlation would have a correlation index of 1; perfect anti-correlation (= negative correlation) would have -1 (obviously each feature is perfectly correlated with itself; leading to the deep red diagonal). The upper right vs lower left triangle that make up this plot contain the same information, since the corresponding cells show the correlation coefficients of the same features. \n",
    "\n",
    "The matrix gives us an overview as to which features are particularly interesting for our analysis. Both strongly positive or negative correlations with the *Survived* feature are valuable. Strong correlations between two other features would suggest that only one of them is necessary for our model (and including the other would in fact induce noise and potentially lead to over-fitting).\n",
    "\n",
    "**We learn:**\n",
    "\n",
    "- *Pclass* is somewhat correlated with *Fare* (1st class tickets would be more expensive than 3rd class ones)\n",
    "- *SibSp* and *Parch* are weakly correlated (large families would have high values for both; solo travellers would have zero for both)\n",
    "- *Pclass* already correlates with *Survived* in a noticeable way"
   ]
  },
  {
   "cell_type": "markdown",
   "metadata": {
    "_cell_guid": "af4d4a9c-9139-a393-e9d7-09fce091a3c4"
   },
   "source": [
    "In addition, we plot a **Pairplot** of the numerical features. This kind of plot is a more detailed visualisation of relationships between variables. It shows scatter plots for the different feature combinations plus a distribution of each feature on the diagonal. Again, the upper right and lower left triangle contain the same information. This kind of plot is vastly more useful for a set of continuous variables, instead of the categorical or integer values we have here. Nonetheless, it is a valuable exploratory tool that has a place in everyone's toolbox.\n",
    "\n",
    "This plot is inspired by, and realised much more aesthetically in, the [comprehensive Ensemble Stacking Kernel by Anisotropic](https://www.kaggle.com/arthurtok/introduction-to-ensembling-stacking-in-python)  "
   ]
  },
  {
   "cell_type": "code",
   "execution_count": 142,
   "metadata": {
    "_cell_guid": "19f7f705-6433-fc57-48cc-ce19890bbdc3"
   },
   "outputs": [
    {
     "data": {
      "text/plain": [
       "<seaborn.axisgrid.PairGrid at 0x1112c62b0>"
      ]
     },
     "execution_count": 142,
     "metadata": {},
     "output_type": "execute_result"
    },
    {
     "data": {
      "image/png": "[encoded data removed]",
      "text/plain": [
       "<matplotlib.figure.Figure at 0x1a248afda0>"
      ]
     },
     "metadata": {},
     "output_type": "display_data"
    }
   ],
   "source": [
    "cols = ['Survived','Pclass','Age','SibSp','Parch','Fare']\n",
    "g = sns.pairplot(data=train.dropna(), vars=cols, size=1.5,\n",
    "                 hue='Survived', palette=[nosurv_col,surv_col])\n",
    "g.set(xticklabels=[])"
   ]
  },
  {
   "cell_type": "code",
   "execution_count": 143,
   "metadata": {
    "_cell_guid": "697d9bbb-151b-01bc-1871-b78537a54f7d"
   },
   "outputs": [
    {
     "data": {
      "text/plain": [
       "<matplotlib.axes._subplots.AxesSubplot at 0x1a252196d8>"
      ]
     },
     "execution_count": 143,
     "metadata": {},
     "output_type": "execute_result"
    },
    {
     "data": {
      "image/png": "[encoded data removed]",
      "text/plain": [
       "<matplotlib.figure.Figure at 0x110f62438>"
      ]
     },
     "metadata": {},
     "output_type": "display_data"
    }
   ],
   "source": [
    "msurv = train[(train['Survived']==1) & (train['Sex']==\"male\")]\n",
    "fsurv = train[(train['Survived']==1) & (train['Sex']==\"female\")]\n",
    "mnosurv = train[(train['Survived']==0) & (train['Sex']==\"male\")]\n",
    "fnosurv = train[(train['Survived']==0) & (train['Sex']==\"female\")]\n",
    "\n",
    "plt.figure(figsize=[13,5])\n",
    "plt.subplot(121)\n",
    "sns.distplot(fsurv['Age'].dropna().values, bins=range(0, 81, 5), kde=False, color=surv_col)\n",
    "sns.distplot(fnosurv['Age'].dropna().values, bins=range(0, 81, 5), kde=False, color=nosurv_col,\n",
    "            axlabel='Female Age')\n",
    "plt.subplot(122)\n",
    "sns.distplot(msurv['Age'].dropna().values, bins=range(0, 81, 5), kde=False, color=surv_col)\n",
    "sns.distplot(mnosurv['Age'].dropna().values, bins=range(0, 81, 5), kde=False, color=nosurv_col,\n",
    "            axlabel='Male Age')"
   ]
  },
  {
   "cell_type": "markdown",
   "metadata": {
    "_cell_guid": "6a6fa62b-2c48-8a6d-6500-a09d3c448c60"
   },
   "source": [
    "**We learn:**\n",
    "\n",
    "- For females the survival chances appear to be higher between 18 and 40, whereas for men in that age range the odds are flipped. This difference between 18-40 yr olds might be a better feature than *Sex* and *Age* by themselves.\n",
    "\n",
    "- Boys have proportional better survival chances than men, whereas girls have similar chances as women have. Rather small numbers, though. "
   ]
  },
  {
   "cell_type": "markdown",
   "metadata": {
    "_cell_guid": "801929d3-cd89-5b82-5033-7197d0e33be0"
   },
   "source": [
    "We study the correlation of *Age* with *Pclass* using a *violin plot*, which is also split between survived (right half) and not survived (left half). Check out the other visualisations in your forked copy."
   ]
  },
  {
   "cell_type": "code",
   "execution_count": 144,
   "metadata": {
    "_cell_guid": "7c24800a-909e-f1c2-2b88-daf939317e3d"
   },
   "outputs": [
    {
     "data": {
      "text/plain": [
       "<matplotlib.collections.LineCollection at 0x1a25248160>"
      ]
     },
     "execution_count": 144,
     "metadata": {},
     "output_type": "execute_result"
    },
    {
     "data": {
      "image/png": "[encoded data removed]",
      "text/plain": [
       "<matplotlib.figure.Figure at 0x1a2471ad68>"
      ]
     },
     "metadata": {},
     "output_type": "display_data"
    }
   ],
   "source": [
    "#foo = combine['Age'].hist(by=combine['Pclass'], bins=np.arange(0,81,1),\n",
    "#                          layout=[3,1], sharex=True, figsize=[8,12])\n",
    "\n",
    "#foo = sns.boxplot(x=\"Pclass\", y=\"Age\", hue=\"Survived\", data=train)\n",
    "\n",
    "#sns.violinplot(x=\"Pclass\", y=\"Age\", data=combine, inner=None)\n",
    "#sns.swarmplot(x=\"Pclass\", y=\"Age\", data=combine, color=\"w\", alpha=.5)\n",
    "\n",
    "sns.violinplot(x=\"Pclass\", y=\"Age\", hue=\"Survived\", data=train, split=True)\n",
    "plt.hlines([0,10], xmin=-1, xmax=3, linestyles=\"dotted\")"
   ]
  },
  {
   "cell_type": "markdown",
   "metadata": {
    "_cell_guid": "9d0e9d6a-b18d-88d8-ad2e-61ff2e96911c"
   },
   "source": [
    "*Violin plots* are a modified version of boxplots, where the shape is a \"kernel density estimate\" of the underlying distribution. These estimates are smoothed and therefore extend beyond the actual values (look closely at the dotted zero level). I have also indicated *Age == 10*, which we will use to define children (vs teenagers) in the engineering part below.\n",
    "\n",
    "**We learn:**\n",
    "\n",
    "- Age decreases progressively as Pclass decreases from 1st to 3rd\n",
    "- Most older passengers are 1st class, but very few children are. This conflates the impact of *Age* and *Pclass* on the survival chances.\n",
    "- In 1st class, younger adults had better survival chances than older ones.\n",
    "- Most children in 2nd class survived, and the majority in 3rd class did too."
   ]
  },
  {
   "cell_type": "markdown",
   "metadata": {
    "_cell_guid": "50ea0a2e-5379-c723-fdbf-62cc5826bce2"
   },
   "source": [
    "For a view into *Pclass* vs *Sex* let's use a *mosaic plot* for a 2-dimensional overview."
   ]
  },
  {
   "cell_type": "code",
   "execution_count": 145,
   "metadata": {
    "_cell_guid": "d6ec8877-770b-1455-86da-f9956e06e3af"
   },
   "outputs": [
    {
     "data": {
      "image/png": "[encoded data removed]",
      "text/plain": [
       "<matplotlib.figure.Figure at 0x1a25041208>"
      ]
     },
     "metadata": {},
     "output_type": "display_data"
    }
   ],
   "source": [
    "dummy = mosaic(train,[\"Survived\",\"Sex\",\"Pclass\"])"
   ]
  },
  {
   "cell_type": "markdown",
   "metadata": {
    "_cell_guid": "0f31204c-c86c-454d-550c-7efb20fc4641"
   },
   "source": [
    "Also, we will start to use *factorplots*, i.e. groups of *pointplots*, from the *seaborn* plotting package to visualise the categorical relations:"
   ]
  },
  {
   "cell_type": "code",
   "execution_count": 146,
   "metadata": {
    "_cell_guid": "a0316d89-6196-5f3e-1a3d-88870a39bf3d"
   },
   "outputs": [
    {
     "data": {
      "image/png": "[encoded data removed]",
      "text/plain": [
       "<matplotlib.figure.Figure at 0x11b691748>"
      ]
     },
     "metadata": {},
     "output_type": "display_data"
    }
   ],
   "source": [
    "g = sns.factorplot(x=\"Pclass\", y=\"Survived\", hue=\"Sex\", col=\"Embarked\",\n",
    "                   data=train, aspect=0.9, size=3.5, ci=95.0)"
   ]
  },
  {
   "cell_type": "markdown",
   "metadata": {
    "_cell_guid": "ba6688db-7df2-7f22-419b-ef1af7720b10"
   },
   "source": [
    "**We learn:**\n",
    "\n",
    "- Both the factorplot and the mosaicplot indicate that almost all females that died were 3rd class passengers.\n",
    "- For males being in 1st class gives a survival boost, otherwise the proportions look roughly similar.\n",
    "- Except for 3rd class, the survival for *Embarked == Q* is close to 100% split between male and female.\n",
    "\n",
    "Let's follow up the numbers for *Pclass vs Embarked* with a *pandas crosstab plot*:"
   ]
  },
  {
   "cell_type": "code",
   "execution_count": null,
   "metadata": {
    "_cell_guid": "63dd3d4a-8663-faf8-d3e4-fa490146e2ce"
   },
   "outputs": [],
   "source": [
    "tab = pd.crosstab(combine['Embarked'], combine['Pclass'])\n",
    "print(tab)"
   ]
  },
  {
   "cell_type": "code",
   "execution_count": 188,
   "metadata": {
    "_cell_guid": "63dd3d4a-8663-faf8-d3e4-fa490146e2ce"
   },
   "outputs": [
    {
     "data": {
      "image/png": "[encoded data removed]",
      "text/plain": [
       "<matplotlib.figure.Figure at 0x1a277da080>"
      ]
     },
     "metadata": {},
     "output_type": "display_data"
    }
   ],
   "source": [
    "dummy = tab.div(tab.sum(1).astype(float), axis=0).plot(kind=\"bar\", stacked=True)\n",
    "dummy = plt.xlabel('Port embarked')\n",
    "dummy = plt.ylabel('Percentage')\n",
    "plt.legend(bbox_to_anchor=(1,1))\n",
    "plt.show()"
   ]
  },
  {
   "cell_type": "markdown",
   "metadata": {
    "_cell_guid": "fdbb2527-9fa5-eddb-d731-fbf624c5fb22"
   },
   "source": [
    "**We learn:**\n",
    "\n",
    "- a high percentage of those embarked at \"C\" were 1st class passengers.\n",
    "- almost everyone who embarked at \"Q\" went to 3rd class (this means that the clear separation in the factorplot for \"Q\" isn't very meaningful, unfortunately).\n",
    "\n",
    "The 2nd point is somewhat curious, since we recall from above that the survival chances for \"Q\" were actually slightly better than for \"S\". Not significantly so, of course, but certainly not worse even though \"S\" had a higher percentage of 1st and 2nd class passengers.\n",
    "\n",
    "It seems that embarking at \"Q\" improved your chances for survival if you were a 3rd class passenger. Let's investigate that a bit more:"
   ]
  },
  {
   "cell_type": "code",
   "execution_count": 139,
   "metadata": {
    "_cell_guid": "90bc1f15-c988-d60f-bbe8-0c98275a05ae"
   },
   "outputs": [
    {
     "data": {
      "text/plain": [
       "<matplotlib.axes._subplots.AxesSubplot at 0x110de2c18>"
      ]
     },
     "execution_count": 139,
     "metadata": {},
     "output_type": "execute_result"
    },
    {
     "data": {
      "image/png": "[encoded data removed]",
      "text/plain": [
       "<matplotlib.figure.Figure at 0x110e60b00>"
      ]
     },
     "metadata": {},
     "output_type": "display_data"
    }
   ],
   "source": [
    "sns.barplot(x=\"Embarked\", y=\"Survived\", hue=\"Pclass\", data=train)"
   ]
  },
  {
   "cell_type": "markdown",
   "metadata": {
    "_cell_guid": "707e3966-b954-72ac-6e68-3753fa923038"
   },
   "source": [
    "Ok, now from here it looks more like \"S\" is the interesting port since survival is less probably for that one if you are a 3rd class passenger. Otherwise  there is no significant difference within each class.\n",
    "\n",
    "There seems to be some impact here that isn't captured by the passenger class. What about the other strong feature, Sex?"
   ]
  },
  {
   "cell_type": "code",
   "execution_count": 179,
   "metadata": {
    "_cell_guid": "1106d0e5-f754-93af-1e57-9ea6fe312624"
   },
   "outputs": [
    {
     "name": "stdout",
     "output_type": "stream",
     "text": [
      "Sex       female  male\n",
      "Embarked              \n",
      "C            113   157\n",
      "Q             60    63\n",
      "S            291   623\n"
     ]
    },
    {
     "data": {
      "image/png": "[encoded data removed]",
      "text/plain": [
       "<matplotlib.figure.Figure at 0x1a27fbb588>"
      ]
     },
     "metadata": {},
     "output_type": "display_data"
    }
   ],
   "source": [
    "tab = pd.crosstab(combine['Embarked'], combine['Sex'])\n",
    "print(tab)\n",
    "dummy = tab.div(tab.sum(1).astype(float), axis=0).plot(kind=\"bar\", stacked=True) # 采用 pandas 绘图\n",
    "dummy = plt.xlabel('Port embarked')\n",
    "dummy = plt.ylabel('Percentage')\n",
    "plt.legend(bbox_to_anchor=(1.05, 1), loc=2, borderaxespad=0)\n",
    "plt.show()"
   ]
  },
  {
   "cell_type": "markdown",
   "metadata": {
    "_cell_guid": "6d3fa608-dc9f-101b-283a-08cf2a6b4a80"
   },
   "source": [
    "Now this is somewhat expected since it explains the difference between \"S\" and the other ports. Therefore, it seems that between more 1st class passengers embarking at \"C\" and more men at \"S\" there doesn't seem to be much actual influence in the port of embarkation.\n",
    "\n",
    "However, the last plot should also indicate that ..."
   ]
  },
  {
   "cell_type": "code",
   "execution_count": null,
   "metadata": {
    "_cell_guid": "67fc37b3-0dae-e772-6cf8-fe6b1099a488"
   },
   "outputs": [],
   "source": [
    "tab = pd.crosstab(combine['Pclass'], combine['Sex'])\n",
    "print(tab)\n",
    "dummy = tab.div(tab.sum(1).astype(float), axis=0).plot(kind=\"bar\", stacked=True)\n",
    "dummy = plt.xlabel('Pclass')\n",
    "dummy = plt.ylabel('Percentage')"
   ]
  },
  {
   "cell_type": "markdown",
   "metadata": {
    "_cell_guid": "16ec6855-d451-dafb-61ad-399f91e5605e"
   },
   "source": [
    "... there were more males among the 3rd class passengers. Possibly travelling alone?"
   ]
  },
  {
   "cell_type": "code",
   "execution_count": null,
   "metadata": {
    "_cell_guid": "520e72ce-7a85-8a75-4f39-7aaad8393c90"
   },
   "outputs": [],
   "source": [
    "sib = pd.crosstab(train['SibSp'], train['Sex'])\n",
    "print(sib)\n",
    "dummy = sib.div(sib.sum(1).astype(float), axis=0).plot(kind=\"bar\", stacked=True)\n",
    "dummy = plt.xlabel('Siblings')\n",
    "dummy = plt.ylabel('Percentage')\n",
    "\n",
    "parch = pd.crosstab(train['Parch'], train['Sex'])\n",
    "print(parch)\n",
    "dummy = parch.div(parch.sum(1).astype(float), axis=0).plot(kind=\"bar\", stacked=True)\n",
    "dummy = plt.xlabel('Parent/Children')\n",
    "dummy = plt.ylabel('Percentage')"
   ]
  },
  {
   "cell_type": "markdown",
   "metadata": {
    "_cell_guid": "61c4a3f3-b3dd-cb8e-a0dc-c1dd7c0e99cd"
   },
   "source": [
    "Sort of, yes. This goes some way to explain features like better survival for SibSp = 1-3. But I think that it doesn't cover all the signal in the Parch feature.\n",
    "\n",
    "**We learn:**\n",
    "\n",
    "- Different percentages of passenger classes and sexes have embarked from different ports, which is reflected in the lower survival rates for \"S\" (more men, fewer 1st class) compared to \"C\" (more women and 1st class).\n",
    "\n",
    "- It's hard to say at this stage whether there is any real impact left for the *Embarked* feature once we correct for these connections. We will come back to this in the modelling stage when we will study feature importances and significances (soon)."
   ]
  },
  {
   "cell_type": "markdown",
   "metadata": {
    "_cell_guid": "0e23a889-f35a-3785-9dc0-bfc6b1c47c79"
   },
   "source": [
    "Finally, let's check what's going on between *Age* and *Embarked*:"
   ]
  },
  {
   "cell_type": "code",
   "execution_count": null,
   "metadata": {
    "_cell_guid": "ce56e789-4861-b296-8b11-04d65e21a37f"
   },
   "outputs": [],
   "source": [
    "sns.violinplot(x=\"Embarked\", y=\"Age\", hue=\"Survived\", data=train, split=True)\n",
    "plt.hlines([0,10], xmin=-1, xmax=3, linestyles=\"dotted\")"
   ]
  },
  {
   "cell_type": "markdown",
   "metadata": {
    "_cell_guid": "3dae32c2-74c4-e36d-cd20-1e4a4a3aff6f"
   },
   "source": [
    "The curious distribution for the \"Q\" survivors somewhat follows the overall trend for 3rd class passengers (which make up the vast majority of \"Q\") but is notably narrower. Not many of the children there survived, but then there were not many children to begin with. Let's come back to this point in discussing the derived features.\n",
    "\n",
    "**We learn:**\n",
    "There don't seem to be strong differences in *Age* among the *Embarked* categories that would point at an imbalance that goes beyond the influence of *Pclass* and *Sex*. "
   ]
  },
  {
   "cell_type": "markdown",
   "metadata": {
    "_cell_guid": "dae584a9-4565-3ca0-2d9a-726e248d14ec"
   },
   "source": [
    "Let's study the relation between *Fare* and *Pclass* in more detail:"
   ]
  },
  {
   "cell_type": "code",
   "execution_count": null,
   "metadata": {
    "_cell_guid": "5b1eced0-7a39-b065-4a0a-ffe6b858aa2a"
   },
   "outputs": [],
   "source": [
    "plt.figure(figsize=[12,10])\n",
    "plt.subplot(311)\n",
    "ax1 = sns.distplot(np.log10(surv['Fare'][surv['Pclass']==1].dropna().values+1), kde=False, color=surv_col)\n",
    "ax1 = sns.distplot(np.log10(nosurv['Fare'][nosurv['Pclass']==1].dropna().values+1), kde=False, color=nosurv_col,axlabel='Fare')\n",
    "ax1.set_xlim(0,np.max(np.log10(train['Fare'].dropna().values)))\n",
    "plt.subplot(312)\n",
    "ax2 = sns.distplot(np.log10(surv['Fare'][surv['Pclass']==2].dropna().values+1), kde=False, color=surv_col)\n",
    "ax2 = sns.distplot(np.log10(nosurv['Fare'][nosurv['Pclass']==2].dropna().values+1), kde=False, color=nosurv_col,axlabel='Fare')\n",
    "ax2.set_xlim(0,np.max(np.log10(train['Fare'].dropna().values)))\n",
    "plt.subplot(313)\n",
    "ax3 = sns.distplot(np.log10(surv['Fare'][surv['Pclass']==3].dropna().values+1), kde=False, color=surv_col)\n",
    "ax3 = sns.distplot(np.log10(nosurv['Fare'][nosurv['Pclass']==3].dropna().values+1), kde=False, color=nosurv_col,axlabel='Fare')\n",
    "ax3.set_xlim(0,np.max(np.log10(train['Fare'].dropna().values)))\n",
    "plt.subplots_adjust(top=0.92, bottom=0.08, left=0.10, right=0.95, hspace=0.25, wspace=0.35)"
   ]
  },
  {
   "cell_type": "markdown",
   "metadata": {
    "_cell_guid": "875d86d7-deb3-f409-9d48-1f863d33407a"
   },
   "source": [
    "**We learn:**\n",
    "\n",
    "- There is a broad distribution between the 1st class passenger fares (rich -> super rich)\n",
    "- There's an interesting bimodality in the 2nd class cabins and a long tail in the 3rd class ones. (*TODO: check cumulative fare question*)\n",
    "- For each class there is strong evidence that the cheaper cabins were worse for survival. A similar effect can be seen in a *boxplot*:"
   ]
  },
  {
   "cell_type": "code",
   "execution_count": null,
   "metadata": {
    "_cell_guid": "33ea4eeb-a6e3-f9d9-437a-b3253f28b49a"
   },
   "outputs": [],
   "source": [
    "ax = sns.boxplot(x=\"Pclass\", y=\"Fare\", hue=\"Survived\", data=train);\n",
    "ax.set_yscale('log')"
   ]
  },
  {
   "cell_type": "markdown",
   "metadata": {
    "_cell_guid": "b9420e3a-a1d4-2c7c-feff-adf27c8e1c4e"
   },
   "source": [
    "<a id='missing'></a>"
   ]
  },
  {
   "cell_type": "markdown",
   "metadata": {
    "_cell_guid": "8ac6dc35-5a86-d15e-5c5c-fa1725cf82f3"
   },
   "source": [
    "[Go to the top of the page](#top)"
   ]
  },
  {
   "cell_type": "markdown",
   "metadata": {
    "_cell_guid": "4f905063-3002-d268-cb25-6715476141b7"
   },
   "source": [
    "# 4. Filling in missing values"
   ]
  },
  {
   "cell_type": "markdown",
   "metadata": {
    "_cell_guid": "25e9ca8a-894a-3dba-48e9-a81c4d71e272"
   },
   "source": [
    "After studying the relations between the different features let's fill in a few missing values based on what we learned.\n",
    "\n",
    "In my opinion, the only training feature for which it makes sense to fill in the NAs is *Embarked*. Too many *Cabin* numbers are missing. And for *Age* we will choose a different approach below. We fill in the 1 missing *Fare* value in the test data frame accordingly.\n",
    "\n",
    "Let's find the two passengers and assign the most likely port based on what we found so far:"
   ]
  },
  {
   "cell_type": "code",
   "execution_count": null,
   "metadata": {
    "_cell_guid": "ea5999c2-2ff5-95a2-ea33-4d2e204bcb12"
   },
   "outputs": [],
   "source": [
    "print(train[train['Embarked'].isnull()])"
   ]
  },
  {
   "cell_type": "markdown",
   "metadata": {
    "_cell_guid": "9f29d016-442f-c3c4-ee40-4b128a2c8bf4"
   },
   "source": [
    "These are two women that travelled together in 1st class, were 38 and 62 years old, and had no family on board."
   ]
  },
  {
   "cell_type": "code",
   "execution_count": null,
   "metadata": {
    "_cell_guid": "3b970126-be79-0187-fe3a-584ddce32f74"
   },
   "outputs": [],
   "source": [
    "combine.where((combine['Embarked'] !='Q') & (combine['Pclass'] < 1.5) & \\\n",
    "    (combine['Sex'] == \"female\")).groupby(['Embarked','Pclass','Sex','Parch','SibSp']).size()"
   ]
  },
  {
   "cell_type": "markdown",
   "metadata": {
    "_cell_guid": "950b219f-39a0-591f-b1f8-7d1f0328cd66"
   },
   "source": [
    "Admittedly, these are quite a few grouping levels, but 30 (\"C\") vs 20 (\"S\") are numbers that are still large enough to be useful in this context. In addition, already a grouping without the *Parch* and *SibSp* features suggests similar numbers for women in 1st class embarking from \"C\" (71) vs \"S\" (69) (in contrast to the larger overall number of all 1st class passengers leaving from \"S\").\n",
    "\n",
    "Another recent kernel ([definitely worth checking out](https://www.kaggle.com/varimp/a-mostly-tidyverse-tour-of-the-titanic)) makes a convincing case for predicting *Embarked == \"S\"* for these two passengers (see also the comments). However, in my opinion we have better reasons to impute \"C\" instead. I recommend that you weigh the arguments and make your own decision.\n",
    "\n",
    "*(How much does it actually matter? Well, in the big picture these are only 2 passengers and their impact on our model accuracy won't be large. However, since the main point of this challenge is to practice data analysis it is certainly worth to take your time to examine the question in a bit more detail.)*"
   ]
  },
  {
   "cell_type": "code",
   "execution_count": null,
   "metadata": {
    "_cell_guid": "c46dce10-1e68-7f07-7185-88c58e2fe141"
   },
   "outputs": [],
   "source": [
    "train['Embarked'].iloc[61] = \"C\"\n",
    "train['Embarked'].iloc[829] = \"C\""
   ]
  },
  {
   "cell_type": "code",
   "execution_count": null,
   "metadata": {
    "_cell_guid": "3504cf1f-cd37-f36e-b87a-ee90988ab3ca"
   },
   "outputs": [],
   "source": [
    "print(test[test['Fare'].isnull()])"
   ]
  },
  {
   "cell_type": "code",
   "execution_count": null,
   "metadata": {
    "_cell_guid": "ea1a0ac3-a7e7-2153-15d0-7c5991c52a54"
   },
   "outputs": [],
   "source": [
    "print(test[test['Fare'].isnull()])"
   ]
  },
  {
   "cell_type": "markdown",
   "metadata": {
    "_cell_guid": "7c37657f-9bbd-2174-38ba-cb68b9a0ad5f"
   },
   "source": [
    "A 60-yr old 3rd class passenger without family on board. We will base our *Fare* prediction on the median of the 3rd-class fares:"
   ]
  },
  {
   "cell_type": "code",
   "execution_count": null,
   "metadata": {
    "_cell_guid": "e1ad2129-e9a7-15df-c65c-2d633b4a32a2"
   },
   "outputs": [],
   "source": [
    "test['Fare'].iloc[152] = combine['Fare'][combine['Pclass'] == 3].dropna().median()\n",
    "print(test['Fare'].iloc[152])"
   ]
  },
  {
   "cell_type": "markdown",
   "metadata": {
    "_cell_guid": "5121fea8-323c-9bb9-0091-ce1ad3bee1cc"
   },
   "source": [
    "<a id='derived'></a>"
   ]
  },
  {
   "cell_type": "markdown",
   "metadata": {
    "_cell_guid": "d09ffea4-0fea-ff91-e7f6-47ca49012567"
   },
   "source": [
    "[Go to the top of the page](#top)"
   ]
  },
  {
   "cell_type": "markdown",
   "metadata": {
    "_cell_guid": "bb188bc8-725b-f36c-8340-554063a36fdc"
   },
   "source": [
    "# 5. Derived (engineered) features"
   ]
  },
  {
   "cell_type": "markdown",
   "metadata": {
    "_cell_guid": "ec60942b-87bb-8ecb-1656-8d4bdac99524"
   },
   "source": [
    "The next idea is to define new features based on the existing ones that allow for a split into survived/not-survived with higher confidence than the existing features. An example would be \"rich woman\" vs \"poor man\", but this particular distinction should be handled well by most classifiers. We're looking for something a bit more subtle here. This is the part where the detective puts individual clues together to see whether their sum is more than its parts.\n",
    "\n",
    "This part of the analysis is called *Feature Engineering*. I prefer the approach to list all the new features that we define together in one place, to keep an overview. Every time we can think of a new feature, we come back here to define it and then study it further down. We compute the new features in the combined data set, to make sure that all feature realisations are complete, and then split the combine data again into train and test.\n",
    "\n",
    "The clever way of computing the *Shared\\_ticket* values (using *group\\_by* and *np.where*) was contributed by [GeorgeChou](https://www.kaggle.com/georgechou) in the comments. Many thanks! "
   ]
  },
  {
   "cell_type": "code",
   "execution_count": null,
   "metadata": {
    "_cell_guid": "e3eff25c-2897-438b-2f9e-239c0b46653c"
   },
   "outputs": [],
   "source": [
    "combine = pd.concat([train.drop('Survived',1),test])\n",
    "survived = train['Survived']\n",
    "\n",
    "combine['Child'] = combine['Age']<=10\n",
    "combine['Cabin_known'] = combine['Cabin'].isnull() == False\n",
    "combine['Age_known'] = combine['Age'].isnull() == False\n",
    "combine['Family'] = combine['SibSp'] + combine['Parch']\n",
    "combine['Alone']  = (combine['SibSp'] + combine['Parch']) == 0\n",
    "combine['Large_Family'] = (combine['SibSp']>2) | (combine['Parch']>3)\n",
    "combine['Deck'] = combine['Cabin'].str[0]\n",
    "combine['Deck'] = combine['Deck'].fillna(value='U')\n",
    "combine['Ttype'] = combine['Ticket'].str[0]\n",
    "combine['Title'] = combine['Name'].str.split(\", \", expand=True)[1].str.split(\".\", expand=True)[0]\n",
    "combine['Fare_cat'] = pd.DataFrame(np.floor(np.log10(combine['Fare'] + 1))).astype('int')\n",
    "combine['Bad_ticket'] = combine['Ttype'].isin(['3','4','5','6','7','8','A','L','W'])\n",
    "combine['Young'] = (combine['Age']<=30) | (combine['Title'].isin(['Master','Miss','Mlle']))\n",
    "combine['Shared_ticket'] = np.where(combine.groupby('Ticket')['Name'].transform('count') > 1, 1, 0)\n",
    "combine['Ticket_group'] = combine.groupby('Ticket')['Name'].transform('count')\n",
    "combine['Fare_eff'] = combine['Fare']/combine['Ticket_group']\n",
    "combine['Fare_eff_cat'] = np.where(combine['Fare_eff']>16.0, 2, 1)\n",
    "combine['Fare_eff_cat'] = np.where(combine['Fare_eff']<8.5,0,combine['Fare_eff_cat'])\n",
    "test = combine.iloc[len(train):]\n",
    "train = combine.iloc[:len(train)]\n",
    "train['Survived'] = survived\n",
    "\n",
    "surv = train[train['Survived']==1]\n",
    "nosurv = train[train['Survived']==0]"
   ]
  },
  {
   "cell_type": "markdown",
   "metadata": {
    "_cell_guid": "07f87284-54fb-bc9c-a612-3430aaf4ac2d"
   },
   "source": [
    "Now let's study the new features and see how they relate to the survival chances:"
   ]
  },
  {
   "cell_type": "markdown",
   "metadata": {
    "_cell_guid": "a918a3c4-d254-aa06-34d8-35a05aeacd8c"
   },
   "source": [
    "### *Child*"
   ]
  },
  {
   "cell_type": "code",
   "execution_count": null,
   "metadata": {
    "_cell_guid": "d55bc4af-b5ce-db0d-8b33-ae08f532f62a"
   },
   "outputs": [],
   "source": [
    "g = sns.factorplot(x=\"Sex\", y=\"Survived\", hue=\"Child\", col=\"Pclass\",\n",
    "                   data=train, aspect=0.9, size=3.5, ci=95.0)\n",
    "tab = pd.crosstab(train['Child'], train['Pclass'])\n",
    "print(tab)\n",
    "tab = pd.crosstab(train['Child'], train['Sex'])\n",
    "print(tab)"
   ]
  },
  {
   "cell_type": "markdown",
   "metadata": {
    "_cell_guid": "ec46eacb-403b-cee0-2c6b-cd0f6d62c483"
   },
   "source": [
    "The *Pclass == 1* plot looks interesting at first, but there are only 3 children in this group which makes the apparent pattern just random noise. The other two passenger classes are more interesting, especially for the male children. Note, that since we are selecting by *Age*, which has many missing values, a number of children will be in the *Child == False* group. Nonetheless, this seems useful.\n",
    "\n",
    "**We learn:** Male children appear to have a survival advantage in 2nd and 3rd class. We should include the *Child* feature in our model testing."
   ]
  },
  {
   "cell_type": "markdown",
   "metadata": {
    "_cell_guid": "42dc3e0d-74b6-48eb-96ba-40dbb7b27308"
   },
   "source": [
    "### *Cabin\\_known*"
   ]
  },
  {
   "cell_type": "code",
   "execution_count": null,
   "metadata": {
    "_cell_guid": "307c1b1b-ff16-dd48-2ceb-13a229b8b773"
   },
   "outputs": [],
   "source": [
    "cab = pd.crosstab(train['Cabin_known'], train['Survived'])\n",
    "print(cab)\n",
    "dummy = cab.div(cab.sum(1).astype(float), axis=0).plot(kind=\"bar\", stacked=True)\n",
    "dummy = plt.xlabel('Cabin known')\n",
    "dummy = plt.ylabel('Percentage')"
   ]
  },
  {
   "cell_type": "markdown",
   "metadata": {
    "_cell_guid": "02cb651b-4fcb-cc7c-49ca-29c05e1d8f56"
   },
   "source": [
    "As suspected, it is more likely to know the cabin of a passenger who survived. This could be useful."
   ]
  },
  {
   "cell_type": "code",
   "execution_count": null,
   "metadata": {
    "_cell_guid": "0d92fc06-2a4a-a0b7-b2c6-601c4e527a62"
   },
   "outputs": [],
   "source": [
    "g = sns.factorplot(x=\"Sex\", y=\"Survived\", hue=\"Cabin_known\", col=\"Pclass\",\n",
    "                   data=train, aspect=0.9, size=3.5, ci=95.0)"
   ]
  },
  {
   "cell_type": "markdown",
   "metadata": {
    "_cell_guid": "cf0f57b7-2ce4-d800-529a-6b1b2b7454a1"
   },
   "source": [
    "However, we see again that a large part of this effect disappears once we control for *Sex* and *Pclass*. \n",
    "\n",
    "**We learn:** There remains a potential trend for males and for 3rd class passengers but the uncertainties are large. This feature should be tested in the modelling stage."
   ]
  },
  {
   "cell_type": "markdown",
   "metadata": {
    "_cell_guid": "35193e00-c7cd-e426-8abb-1f2be1c50c6a"
   },
   "source": [
    "### *Deck*"
   ]
  },
  {
   "cell_type": "code",
   "execution_count": null,
   "metadata": {
    "_cell_guid": "4e95d93b-5474-61cf-58d6-7c25b42fb43c"
   },
   "outputs": [],
   "source": [
    "tab = pd.crosstab(train['Deck'], train['Survived'])\n",
    "print(tab)\n",
    "dummy = tab.div(tab.sum(1).astype(float), axis=0).plot(kind=\"bar\", stacked=True)\n",
    "dummy = plt.xlabel('Deck')\n",
    "dummy = plt.ylabel('Percentage')"
   ]
  },
  {
   "cell_type": "markdown",
   "metadata": {
    "_cell_guid": "ae4682b4-2c19-1e12-c886-b5327aefe677"
   },
   "source": [
    "Ok, so what can we tell from the Deck (derived from the Cabin number)? First of all the overall survival statistics is much better than for the full sample, which is what we found above. Beyond that, the best decks for survival were B, D, and E with about 66% chance. C and F are around 60%. A and G at 50%. The only passenger on deck T died, but that's hardly robust statistics.\n",
    "\n",
    "The largest number of cases we have is for B vs C. Let's see whether that's significant:"
   ]
  },
  {
   "cell_type": "code",
   "execution_count": null,
   "metadata": {
    "_cell_guid": "9341105b-bcd7-fd2d-4420-2df323939894"
   },
   "outputs": [],
   "source": [
    "stats.binom_test(x=12,n=12+35,p=24/(24.+35.))"
   ]
  },
  {
   "cell_type": "markdown",
   "metadata": {
    "_cell_guid": "336dd6ad-dfff-abec-6c6d-eba29af4ed36"
   },
   "source": [
    "Just about formally significant (i.e. < 5%). It might be worth our while to include this feature in at least the initial stages of modelling to see how it performs."
   ]
  },
  {
   "cell_type": "code",
   "execution_count": null,
   "metadata": {
    "_cell_guid": "4e75d6f9-ca10-a99f-5cc0-f755c4051702"
   },
   "outputs": [],
   "source": [
    "g = sns.factorplot(x=\"Deck\", y=\"Survived\", hue=\"Sex\", col=\"Pclass\",\n",
    "                   data=train, aspect=0.9, size=3.5, ci=95.0)"
   ]
  },
  {
   "cell_type": "markdown",
   "metadata": {
    "_cell_guid": "677c8fb2-9bdc-ed61-6b29-5e4d50d94f01"
   },
   "source": [
    "In addition, there is some variation between the 1st class male passengers, but it doesn't look overly significant."
   ]
  },
  {
   "cell_type": "markdown",
   "metadata": {
    "_cell_guid": "4083f7a9-ffe5-8617-8ea3-2656eb568bbd"
   },
   "source": [
    "### *Ttype and Bad\\_ticket*"
   ]
  },
  {
   "cell_type": "markdown",
   "metadata": {
    "_cell_guid": "701ad674-a373-120a-4a51-f70cef8e9bdb"
   },
   "source": [
    "Let's have a look at the ticket numbers and see whether we can extract some additional deck information from them. Above, we created a new feature called *Ttype* which defines the type of a ticket through the first digit of the ticket number."
   ]
  },
  {
   "cell_type": "code",
   "execution_count": null,
   "metadata": {
    "_cell_guid": "9938627f-4492-bbe5-9e38-c50749b9cfce"
   },
   "outputs": [],
   "source": [
    "print(train['Ttype'].unique())\n",
    "print(test['Ttype'].unique())"
   ]
  },
  {
   "cell_type": "code",
   "execution_count": null,
   "metadata": {
    "_cell_guid": "dd810358-15a2-0d56-768a-682965101505"
   },
   "outputs": [],
   "source": [
    "tab = pd.crosstab(train['Ttype'], train['Survived'])\n",
    "print(tab)\n",
    "sns.barplot(x=\"Ttype\", y=\"Survived\", data=train, ci=95.0, color=\"blue\")"
   ]
  },
  {
   "cell_type": "markdown",
   "metadata": {
    "_cell_guid": "428f2a90-fdd4-dd91-bd84-995af03f0df4"
   },
   "source": [
    "Based on this plot we define a new feature called *Bad\\_ticket* under which we collect all the ticket numbers that start with digits which suggest less than 25% survival (e.g. *4*, *5*, or *A*). We are aware that some of the survival fractions we see above are based on small number statistics (e.g. 2 vs 0 for *8*). It is well possible that some of our \"bad tickets\" are merely statistical fluctuations from the base survival rate of 38%.  The barplot shows mean survival fractions and the associated 95% confidence limits, which are large for the sparse samples.\n",
    "\n",
    "However, the significant difference between e.g. *1* and *3* (based on large enough numbers) suggests that this new feature could still contain some useful information. I think that without external information, which we are avoiding in this notebook, we can't do much better in trying to tie the ticket number to the survival statistics.\n",
    "\n",
    "Of course, it's not the tickets themselves that are \"bad\" for survival, but the possibility that the ticket numbers might encode certain areas of the ship that would have led to higher or lower survival chances."
   ]
  },
  {
   "cell_type": "code",
   "execution_count": null,
   "metadata": {
    "_cell_guid": "bb739f45-940e-4f60-b832-444917a4a272"
   },
   "outputs": [],
   "source": [
    "tab = pd.crosstab(train['Bad_ticket'], train['Survived'])\n",
    "print(tab)\n",
    "g = sns.factorplot(x=\"Bad_ticket\", y=\"Survived\", hue=\"Sex\", col=\"Pclass\",\n",
    "                   data=train, aspect=0.9, size=3.5, ci=95.0)"
   ]
  },
  {
   "cell_type": "markdown",
   "metadata": {
    "_cell_guid": "82691aaa-b815-2aee-36b7-d72957a22d13"
   },
   "source": [
    "The factorplot suggests that bad tickets are worse for male passengers, and 3rd class passengers. The individual significances are not overwhelming, but the trend itself might be useful."
   ]
  },
  {
   "cell_type": "code",
   "execution_count": null,
   "metadata": {
    "_cell_guid": "27b2118d-ecff-2a3a-3232-6fcdc6f8757d"
   },
   "outputs": [],
   "source": [
    "tab = pd.crosstab(train['Deck'], train['Bad_ticket'])\n",
    "print(tab)\n",
    "dummy = tab.div(tab.sum(1).astype(float), axis=0).plot(kind=\"bar\", stacked=True)\n",
    "dummy = plt.xlabel('Deck')\n",
    "dummy = plt.ylabel('Percentage')"
   ]
  },
  {
   "cell_type": "markdown",
   "metadata": {
    "_cell_guid": "7103ea9b-7939-6ed0-97c7-c298402a9b13"
   },
   "source": [
    "The last plot doesn't inspire much confidence in a strong correlation between *Deck* and *Bad\\_ticket*, but maybe it will be useful otherwise.\n",
    "\n",
    "**We learn:** *Bad\\_ticket* might be a lower order effect that could give us some additional accuracy. We should test it out in the modelling stage."
   ]
  },
  {
   "cell_type": "markdown",
   "metadata": {
    "_cell_guid": "57b33f91-c37b-10df-de5f-42de3685f5f8"
   },
   "source": [
    "### *Age\\_known*"
   ]
  },
  {
   "cell_type": "markdown",
   "metadata": {
    "_cell_guid": "cb2cbda4-9398-afbf-568b-530d6d8ff083"
   },
   "source": [
    "Similar to the known Cabin numbers, what about the *passengers for which we know the age*?"
   ]
  },
  {
   "cell_type": "code",
   "execution_count": null,
   "metadata": {
    "_cell_guid": "3521831a-441d-89f0-94af-cd7d08b30744"
   },
   "outputs": [],
   "source": [
    "tab = pd.crosstab(train['Age_known'], train['Survived'])\n",
    "print(tab)\n",
    "dummy = tab.div(tab.sum(1).astype(float), axis=0).plot(kind=\"bar\", stacked=True)\n",
    "dummy = plt.xlabel('Age known')\n",
    "dummy = plt.ylabel('Percentage')"
   ]
  },
  {
   "cell_type": "markdown",
   "metadata": {
    "_cell_guid": "40f2817e-5f02-1da5-2214-8819d1682217"
   },
   "source": [
    "As we would expect intuitively, it appears that we are more likely to know someones age if the survived the disaster. There's a difference of about 30% vs 40% and it should be significant:"
   ]
  },
  {
   "cell_type": "code",
   "execution_count": null,
   "metadata": {
    "_cell_guid": "464e5a01-7f47-4bb9-451b-5534a04554a9"
   },
   "outputs": [],
   "source": [
    "stats.binom_test(x=424,n=424+290,p=125/(125.+52.))"
   ]
  },
  {
   "cell_type": "markdown",
   "metadata": {
    "_cell_guid": "cfd97ffe-f436-7414-6c81-61e07b1ee9a1"
   },
   "source": [
    "Very much so. However, we have seen before that there might be imbalances in the dominating features *Sex* and *Plcass* that create an apparent signal. Is this another of these cases?"
   ]
  },
  {
   "cell_type": "code",
   "execution_count": null,
   "metadata": {
    "_cell_guid": "fe153347-144f-9be5-0bf7-c129000f6726"
   },
   "outputs": [],
   "source": [
    "g = sns.factorplot(x=\"Sex\", y=\"Age_known\", hue=\"Embarked\", col=\"Pclass\",\n",
    "                   data=train, aspect=0.9, size=3.5, ci=95.0)"
   ]
  },
  {
   "cell_type": "markdown",
   "metadata": {
    "_cell_guid": "5e69b1ac-5d18-a159-8917-f6d8efe7ded4"
   },
   "source": [
    "It actually is. Turns out that we are more likely to know the age of higher class passengers or women, which are the strongest survival predictors we have found, so far. (Of course, the causality might as well go the other way, but that's not really the question here. What we want to find are the best predictors for survival.)\n",
    "\n",
    "**We learn:** \n",
    "There is a strong impact of *Sex* and *Pclass* on this new feature. This might be enough to explain all the variance in the *Age\\_known* variable. We should test the predictive power in our modelling."
   ]
  },
  {
   "cell_type": "markdown",
   "metadata": {
    "_cell_guid": "7d426740-74f1-260c-3d02-1b51fa1ad9eb"
   },
   "source": [
    "### *Family*"
   ]
  },
  {
   "cell_type": "code",
   "execution_count": null,
   "metadata": {
    "_cell_guid": "bdfda814-ec89-24ee-3e52-f19a646beb5a"
   },
   "outputs": [],
   "source": [
    "tab = pd.crosstab(train['Family'], train['Survived'])\n",
    "print(tab)\n",
    "dummy = tab.div(tab.sum(1).astype(float), axis=0).plot(kind=\"bar\", stacked=True)\n",
    "dummy = plt.xlabel('Family members')\n",
    "dummy = plt.ylabel('Percentage')"
   ]
  },
  {
   "cell_type": "markdown",
   "metadata": {
    "_cell_guid": "8490f22f-e0b7-dd2f-f8f1-96df8c851a51"
   },
   "source": [
    "**We learn:**\n",
    "Again, we find that having 1-3 family members works best for survival. This feature is a mix of *SibSp* and *Parch*, which increases the overall numbers we can work with, but might smooth out some more subtle effects."
   ]
  },
  {
   "cell_type": "markdown",
   "metadata": {
    "_cell_guid": "9cdd4598-4f9b-830a-7bb4-ebe76df02ea2"
   },
   "source": [
    "### *Alone*"
   ]
  },
  {
   "cell_type": "code",
   "execution_count": null,
   "metadata": {
    "_cell_guid": "b54eb2c1-507a-eb29-60a4-7377cf1b666e"
   },
   "outputs": [],
   "source": [
    "tab = pd.crosstab(train['Alone'], train['Survived'])\n",
    "print(tab)\n",
    "sns.barplot('Alone', 'Survived', data=train)"
   ]
  },
  {
   "cell_type": "markdown",
   "metadata": {
    "_cell_guid": "4f24c2c3-dfb1-e52d-05a9-28c39ea0c094"
   },
   "source": [
    "Travelling alone appears bad enough to be significant."
   ]
  },
  {
   "cell_type": "code",
   "execution_count": null,
   "metadata": {
    "_cell_guid": "0dafe5cf-057c-b6a5-586a-4acb8f06667d"
   },
   "outputs": [],
   "source": [
    "g = sns.factorplot(x=\"Sex\", y=\"Alone\", hue=\"Embarked\", col=\"Pclass\",\n",
    "                   data=train, aspect=0.9, size=3.5, ci=95.0)"
   ]
  },
  {
   "cell_type": "markdown",
   "metadata": {
    "_cell_guid": "5a278c06-6610-a1ce-864b-5b2b88b5c812"
   },
   "source": [
    "But more men were travelling alone than women did. Especially among the 3rd class passengers. Also this feature should be evaluated in our modelling step, to see if it's still significant in the presence of the *Sex* feature."
   ]
  },
  {
   "cell_type": "markdown",
   "metadata": {
    "_cell_guid": "01049f4b-c64e-024c-a0c5-87045fecc4ea"
   },
   "source": [
    "### *Large\\_Family*"
   ]
  },
  {
   "cell_type": "code",
   "execution_count": null,
   "metadata": {
    "_cell_guid": "4ffedab9-7d73-bd3d-14d9-9560dec37aed"
   },
   "outputs": [],
   "source": [
    "tab = pd.crosstab(train['Large_Family'], train['Survived'])\n",
    "print(tab)\n",
    "sns.barplot('Large_Family', 'Survived', data=train)"
   ]
  },
  {
   "cell_type": "markdown",
   "metadata": {
    "_cell_guid": "7be81ed2-30c6-0b44-c5c8-149d08cdd18a"
   },
   "source": [
    "In the same way, having a large family appears to be not good for survival."
   ]
  },
  {
   "cell_type": "code",
   "execution_count": null,
   "metadata": {
    "_cell_guid": "ebd10af1-10cf-6e58-9125-a9d2c94b2373"
   },
   "outputs": [],
   "source": [
    "g = sns.factorplot(x=\"Sex\", y=\"Large_Family\", col=\"Pclass\",\n",
    "                   data=train, aspect=0.9, size=3.5, ci=95.0)"
   ]
  },
  {
   "cell_type": "markdown",
   "metadata": {
    "_cell_guid": "14c3513d-44ab-3feb-c181-e98a476e9e31"
   },
   "source": [
    "But most large families were travelling in 3rd class. The tentative imbalance between male and female 3rd class probably reflect the observation we made earlier that men were more likely to travel alone."
   ]
  },
  {
   "cell_type": "markdown",
   "metadata": {
    "_cell_guid": "d000a88b-f8ef-7e39-6a19-7e9c9c084cf2"
   },
   "source": [
    "### *Shared\\_ticket*"
   ]
  },
  {
   "cell_type": "code",
   "execution_count": null,
   "metadata": {
    "_cell_guid": "7050b1a5-7bb6-49b8-1017-18203a7219f3"
   },
   "outputs": [],
   "source": [
    "tab = pd.crosstab(train['Shared_ticket'], train['Survived'])\n",
    "print(tab)\n",
    "sns.barplot('Shared_ticket', 'Survived', data=train)"
   ]
  },
  {
   "cell_type": "markdown",
   "metadata": {
    "_cell_guid": "95f8b5a6-6490-5c8b-eb19-4322945eae7c"
   },
   "source": [
    "Sharing a ticket appears to be good for survival."
   ]
  },
  {
   "cell_type": "code",
   "execution_count": null,
   "metadata": {
    "_cell_guid": "ba3be89c-ccb9-3b24-0008-8f42365fdfed"
   },
   "outputs": [],
   "source": [
    "tab = pd.crosstab(train['Shared_ticket'], train['Sex'])\n",
    "print(tab)\n",
    "g = sns.factorplot(x=\"Sex\", y=\"Shared_ticket\", hue=\"Embarked\", col=\"Pclass\",\n",
    "                   data=train, aspect=0.9, size=3.5, ci=95.0)"
   ]
  },
  {
   "cell_type": "markdown",
   "metadata": {
    "_cell_guid": "674da3fc-c207-f10e-68ef-27d65fc674ae"
   },
   "source": [
    "But again the sharing of tickets is more frequent with females and 1st class passengers. This is consistent with the other statistics that show that women were more likely to travel together with larger families.\n",
    "\n",
    "**We learn:** Several of these derived parameters are strongly correlated with *Sex* and *Pclass*. Whether there is actual signal in them that a model can use to improve the learning accuracy needs to be investigated."
   ]
  },
  {
   "cell_type": "markdown",
   "metadata": {
    "_cell_guid": "07103c35-f460-0682-9f38-f4e067ac1012"
   },
   "source": [
    "### *Title*"
   ]
  },
  {
   "cell_type": "markdown",
   "metadata": {
    "_cell_guid": "99d98858-5428-6430-5db8-4f9b63d8d950"
   },
   "source": [
    "What can we learn from the titles in the passenger names? These could give us a direct, independent way to estimate the missing age values, so let's look at all the available titles, their frequency, and mean age. For this, we look at the *combined* data set to make sure that we don't miss any titles that might be in *train* or *test* only:"
   ]
  },
  {
   "cell_type": "code",
   "execution_count": null,
   "metadata": {
    "_cell_guid": "93a4478f-4f11-7329-369d-11334b001f4b"
   },
   "outputs": [],
   "source": [
    "print(combine['Age'].groupby(combine['Title']).count())\n",
    "print(combine['Age'].groupby(combine['Title']).mean())\n",
    "\n",
    "print(\"There are %i unique titles in total.\"%(len(combine['Title'].unique())))"
   ]
  },
  {
   "cell_type": "markdown",
   "metadata": {
    "_cell_guid": "83c5c264-e4c1-2afc-c336-37363fff89ed"
   },
   "source": [
    "Ok, so we have 18 different titles, but many of them only apply to a handful of people. The dominating ones are Mr (581), Miss (210), Mrs (170), and Master (53); with the number referring to the combined data. Here are the age distributions for those:"
   ]
  },
  {
   "cell_type": "code",
   "execution_count": null,
   "metadata": {
    "_cell_guid": "55a7e876-61fb-2c86-c3e2-f4ac5fdb8fd7"
   },
   "outputs": [],
   "source": [
    "dummy = combine[combine['Title'].isin(['Mr','Miss','Mrs','Master'])]\n",
    "foo = dummy['Age'].hist(by=dummy['Title'], bins=np.arange(0,81,1))"
   ]
  },
  {
   "cell_type": "markdown",
   "metadata": {
    "_cell_guid": "cfb1bce6-9070-a3b1-9d0d-43b4095d5ef4"
   },
   "source": [
    "We see that *Master* is capturing the male children/teenagers very well, whereas *Miss* applies to girls as well as younger women up to about 40. *Mrs* does not contain many teenagers, but has a sizeable overlap with *Miss*; especially in the range of 20-30 years old.\n",
    "\n",
    "Nevertheless, *Miss* is more likely to indicate a younger woman. Overall, there is a certain amount of variance and we're not going to be able to pinpoint a certain age based on the title.\n",
    "\n",
    "Therefore, we will use 2 *Age Groups*, updating to the *Young* variable we defined above. The idea is to address the issue of missing *Age* values by combining the *Age* and *Title* features into a single feature that should still contain some of the signal regarding survival.\n",
    "\n",
    "For this, we define everyone under 30 *or* with a title of *Master*, *Miss*, or *Mlle* (Mademoiselle) as *Young*. All the other titles we group into *Not Young*. This is a bit of a generalisation in terms of how *Miss* and *Mrs* overlap, but it might be a useful starting point. All the other rare titles (like *Don* or *Lady*) have average ages that are high enough to count as *Not Young*."
   ]
  },
  {
   "cell_type": "code",
   "execution_count": null,
   "metadata": {
    "_cell_guid": "48a3de26-e117-d892-a38a-10bd0c5690c2"
   },
   "outputs": [],
   "source": [
    "tab = pd.crosstab(train['Young'], train['Survived'])\n",
    "print(tab)\n",
    "sns.barplot('Young', 'Survived', data=train)"
   ]
  },
  {
   "cell_type": "markdown",
   "metadata": {
    "_cell_guid": "38a0e554-ccd1-ca00-b686-95b7b725b62d"
   },
   "source": [
    "Finally, we model a fare category, *Fare_cat*, as an ordinal integer variable based on the logarithmic fare values:"
   ]
  },
  {
   "cell_type": "code",
   "execution_count": null,
   "metadata": {
    "_cell_guid": "e075fe54-3d64-e771-8eb0-eb2361c86c97"
   },
   "outputs": [],
   "source": [
    "tab = pd.crosstab(train['Young'], train['Pclass'])\n",
    "print(tab)\n",
    "g = sns.factorplot(x=\"Sex\", y=\"Young\", col=\"Pclass\",\n",
    "                   data=train, aspect=0.9, size=3.5, ci=95.0)"
   ]
  },
  {
   "cell_type": "markdown",
   "metadata": {
    "_cell_guid": "e5eeec7e-4804-58f3-67b8-3e82e1394c1e"
   },
   "source": [
    "Because of the larger number of \"Miss\" vs \"Master\" mostly women are classified as \"Young\".  We also recover the age difference between the ticket classes that was already obvious in earlier plots. Both factors mean that the impact of *Young* has to be studied carefully."
   ]
  },
  {
   "cell_type": "markdown",
   "metadata": {
    "_cell_guid": "9e673dfb-f5a9-720c-21e1-527727822b33"
   },
   "source": [
    "### *Fare\\_cat*"
   ]
  },
  {
   "cell_type": "markdown",
   "metadata": {
    "_cell_guid": "23e95aa2-9711-e58d-bede-64530d710480"
   },
   "source": [
    "Let's remind ourselves of the distribution of *Fare* with respect to *Pclass*:"
   ]
  },
  {
   "cell_type": "code",
   "execution_count": null,
   "metadata": {
    "_cell_guid": "eb5372d6-4f85-7d09-1091-165f6c4dcf43"
   },
   "outputs": [],
   "source": [
    "plt.figure(figsize=[12,10])\n",
    "plt.subplot(311)\n",
    "ax1 = sns.distplot(np.log10(surv['Fare'][surv['Pclass']==1].dropna().values+1), kde=False, color=surv_col)\n",
    "ax1 = sns.distplot(np.log10(nosurv['Fare'][nosurv['Pclass']==1].dropna().values+1), kde=False, color=nosurv_col,axlabel='Fare')\n",
    "ax1.set_xlim(0,np.max(np.log10(train['Fare'].dropna().values+1)))\n",
    "plt.subplot(312)\n",
    "ax2 = sns.distplot(np.log10(surv['Fare'][surv['Pclass']==2].dropna().values+1), kde=False, color=surv_col)\n",
    "ax2 = sns.distplot(np.log10(nosurv['Fare'][nosurv['Pclass']==2].dropna().values+1), kde=False, color=nosurv_col,axlabel='Fare')\n",
    "ax2.set_xlim(0,np.max(np.log10(train['Fare'].dropna().values+1)))\n",
    "plt.subplot(313)\n",
    "ax3 = sns.distplot(np.log10(surv['Fare'][surv['Pclass']==3].dropna().values+1), kde=False, color=surv_col)\n",
    "ax3 = sns.distplot(np.log10(nosurv['Fare'][nosurv['Pclass']==3].dropna().values+1), kde=False, color=nosurv_col,axlabel='Fare')\n",
    "ax3.set_xlim(0,np.max(np.log10(train['Fare'].dropna().values+1)))\n",
    "plt.subplots_adjust(top=0.92, bottom=0.08, left=0.10, right=0.95, hspace=0.25, wspace=0.35)"
   ]
  },
  {
   "cell_type": "markdown",
   "metadata": {
    "_cell_guid": "4154a123-ff3e-997a-08ea-61e83b133e25"
   },
   "source": [
    "To simplify this broad distribution, we decide to classify the fares into *3 fare categories*: 0-10, 10-100, and above 100. This transformation can be easily achieved using the base 10 logarithm:"
   ]
  },
  {
   "cell_type": "code",
   "execution_count": null,
   "metadata": {
    "_cell_guid": "58284bcd-0f62-c71a-b0fe-a9fac8f3ec65"
   },
   "outputs": [],
   "source": [
    "pd.DataFrame(np.floor(np.log10(train['Fare'] + 1))).astype('int').head(5)"
   ]
  },
  {
   "cell_type": "markdown",
   "metadata": {
    "_cell_guid": "5cbb852b-186a-3f63-bd5e-c4d97e61e3e9"
   },
   "source": [
    "The \"+1\" means that our boundaries are slightly shifted in terms of the \"real\" *Fare*. However, this shift avoids computing issues for the zero-fare passengers and it makes little difference for our understanding of the fare groups. In fact, in the plot above the offset had already been applied as well.\n",
    "\n",
    "At the start of this section we define a new feature, *Fare\\_cat*, as fare categories in the same way. Let's try it out:"
   ]
  },
  {
   "cell_type": "code",
   "execution_count": null,
   "metadata": {
    "_cell_guid": "9f04b2ba-98e7-ec53-b6bd-1ab925a5ceb7"
   },
   "outputs": [],
   "source": [
    "tab = pd.crosstab(train['Fare_cat'], train['Survived'])\n",
    "print(tab)\n",
    "sns.barplot('Fare_cat', 'Survived', data=train)"
   ]
  },
  {
   "cell_type": "code",
   "execution_count": null,
   "metadata": {
    "_cell_guid": "cb0f41a2-1494-fc15-e713-4a0db8977ab0"
   },
   "outputs": [],
   "source": [
    "g = sns.factorplot(x=\"Sex\", y=\"Fare_cat\", hue=\"Embarked\", col=\"Pclass\",\n",
    "                   data=train, aspect=0.9, size=3.5, ci=95.0)"
   ]
  },
  {
   "cell_type": "markdown",
   "metadata": {
    "_cell_guid": "3e9c319b-695b-0cf4-ce24-d259ce3d7d84"
   },
   "source": [
    "Our \"usual\" factorplot examination highlights the differences between *Pclass* (as expected) but also shows some interesting variations within the *Sex* feature. This might be related to the fact that women were more likely to share a cabin, and it would therefore indicate that the *Fare* might be a fare per cabin and not per passenger."
   ]
  },
  {
   "cell_type": "markdown",
   "metadata": {
    "_cell_guid": "5bcaff81-492e-46ab-f852-cf3b0aab4988"
   },
   "source": [
    "### *Fare\\_eff\\_cat*"
   ]
  },
  {
   "cell_type": "markdown",
   "metadata": {
    "_cell_guid": "cd096469-e879-3d60-e109-db5377ad98e6"
   },
   "source": [
    "Let's investigate the *Fare affair* in more detail. First, we make sure that the passengers in each group really had the same *Fare* values:"
   ]
  },
  {
   "cell_type": "code",
   "execution_count": null,
   "metadata": {
    "_cell_guid": "8c87c3cf-ffbb-0306-74a5-4400a245519e"
   },
   "outputs": [],
   "source": [
    "combine.groupby('Ticket')['Fare'].transform('std').hist()\n",
    "np.sum(combine.groupby('Ticket')['Fare'].transform('std') > 0)"
   ]
  },
  {
   "cell_type": "markdown",
   "metadata": {
    "_cell_guid": "eb37b8cc-613a-a4dd-bd7a-d9e84838e74d"
   },
   "source": [
    "Almost 100% yes. Above, we extract the standard deviation of the *Fares* among the ticket groups. A standard deviation of zero means that there's no difference. Only 2 values stand out. This is a small number that we could ignore, but we are curious, aren't we?"
   ]
  },
  {
   "cell_type": "code",
   "execution_count": null,
   "metadata": {
    "_cell_guid": "88bb79be-ca5d-a186-81cd-4fc974300a7f"
   },
   "outputs": [],
   "source": [
    "combine.iloc[np.where(combine.groupby('Ticket')['Fare'].transform('std') > 0)]"
   ]
  },
  {
   "cell_type": "markdown",
   "metadata": {
    "_cell_guid": "6bc59155-6821-47d9-8fd8-e926442e014f"
   },
   "source": [
    "It's Mr Osen and Mr Gustafsson on Ticket 7534. Their *Fares* are close enough, though, to include them in the general treatment.\n",
    "\n",
    "Now, let's think for a moment: Identical fares could mean that the fare for a cabin was shared equally among the passengers, in which case our previous treatment would have been justified. However, it *could* also mean that the listed value is the *cumulative fare per cabin* and it was simply recorded as the same value for each passenger. Intuitively, this doesn't seem so plausible, since you typically record what is paid for a ticket and not for a cabin. But let's investigate this for a moment and check how it would transform the *Fare* distribution. For this, we create a *Fare_eff* feature above, which we derive by dividing *Fare* by the number of people sharing a ticket (*Ticket_group*; which we also newly created)."
   ]
  },
  {
   "cell_type": "code",
   "execution_count": null,
   "metadata": {
    "_cell_guid": "bcf57661-23b8-fae5-31cd-b0005e7f6bec"
   },
   "outputs": [],
   "source": [
    "plt.figure(figsize=[12,10])\n",
    "plt.subplot(311)\n",
    "ax1 = sns.distplot(np.log10(surv['Fare_eff'][surv['Pclass']==1].dropna().values+1), kde=False, color=surv_col)\n",
    "ax1 = sns.distplot(np.log10(nosurv['Fare_eff'][nosurv['Pclass']==1].dropna().values+1), kde=False, color=nosurv_col,axlabel='Fare')\n",
    "ax1.set_xlim(0,np.max(np.log10(train['Fare_eff'].dropna().values+1)))\n",
    "plt.subplot(312)\n",
    "ax2 = sns.distplot(np.log10(surv['Fare_eff'][surv['Pclass']==2].dropna().values+1), kde=False, color=surv_col)\n",
    "ax2 = sns.distplot(np.log10(nosurv['Fare_eff'][nosurv['Pclass']==2].dropna().values+1), kde=False, color=nosurv_col,axlabel='Fare')\n",
    "ax2.set_xlim(0,np.max(np.log10(train['Fare_eff'].dropna().values+1)))\n",
    "plt.subplot(313)\n",
    "ax3 = sns.distplot(np.log10(surv['Fare_eff'][surv['Pclass']==3].dropna().values+1), kde=False, color=surv_col)\n",
    "ax3 = sns.distplot(np.log10(nosurv['Fare_eff'][nosurv['Pclass']==3].dropna().values+1), kde=False, color=nosurv_col,axlabel='Fare')\n",
    "ax3.set_xlim(0,np.max(np.log10(train['Fare_eff'].dropna().values+1)))\n",
    "plt.subplots_adjust(top=0.92, bottom=0.08, left=0.10, right=0.95, hspace=0.25, wspace=0.35)"
   ]
  },
  {
   "cell_type": "markdown",
   "metadata": {
    "_cell_guid": "6e73052c-cd39-1667-d9b0-606aa31f1b16"
   },
   "source": [
    "Now **that** is interesting. We see that the distributions become significantly narrower and that the tails and bimodality become much weaker (after getting rid of the zero-fare values for both groups). The really expensive *Fares* in *Pclass == 1* are pretty much all gone. Here's how the standard deviations compare:"
   ]
  },
  {
   "cell_type": "code",
   "execution_count": null,
   "metadata": {
    "_cell_guid": "9040f93b-f0e2-ecde-3388-e9e813de9168"
   },
   "outputs": [],
   "source": [
    "print(combine[combine['Fare']>1].groupby('Pclass')['Fare'].std())\n",
    "print(combine[combine['Fare_eff']>1].groupby('Pclass')['Fare_eff'].std())"
   ]
  },
  {
   "cell_type": "markdown",
   "metadata": {
    "_cell_guid": "1e55173d-c027-1907-c29a-064b80eec57b"
   },
   "source": [
    "We might even be at a stage now where we can investigate the few outliers more in detail:"
   ]
  },
  {
   "cell_type": "code",
   "execution_count": null,
   "metadata": {
    "_cell_guid": "f088bb0c-1226-eca3-5c71-c68259faa7dd"
   },
   "outputs": [],
   "source": [
    "combine[(combine['Pclass']==1) & (combine['Fare_eff']>0) & (combine['Fare_eff']<10)]"
   ]
  },
  {
   "cell_type": "markdown",
   "metadata": {
    "_cell_guid": "a1958276-063f-a789-94d4-c068f0be8d75"
   },
   "source": [
    "That's really cheap for a 1st class cabin. Maybe a transcription error in the data itself?"
   ]
  },
  {
   "cell_type": "code",
   "execution_count": null,
   "metadata": {
    "_cell_guid": "3bb3f97b-f068-0c61-c1ab-596199c0498d"
   },
   "outputs": [],
   "source": [
    "combine[(combine['Pclass']==3) & (np.log10(combine['Fare_eff'])>1.2)]"
   ]
  },
  {
   "cell_type": "markdown",
   "metadata": {
    "_cell_guid": "23234b4f-923f-401e-0bfd-0f62d7650c72"
   },
   "source": [
    "And that's quite expensive for a 3rd class ticket. Maybe these two actually shared a ticket / cabin and we have another transcription / data entry error? The ticket numbers are very similar and someone could easily write \"303\" instead of \"304\". Will we ever know? Maybe not. Does it matter much? Probably not.\n",
    "\n",
    "More importantly, there is a reasonable argument to be made for this new *Fare_eff* feature to represent the actual fare better than the original feature. For once, it splits much cleaner between the *Pclasses*:"
   ]
  },
  {
   "cell_type": "code",
   "execution_count": null,
   "metadata": {
    "_cell_guid": "b49bf7bd-ba08-c18d-22f9-0c2d42c54f86"
   },
   "outputs": [],
   "source": [
    "ax = sns.boxplot(x=\"Pclass\", y=\"Fare_eff\", hue=\"Survived\", data=train)\n",
    "ax.set_yscale('log')\n",
    "ax.hlines([8.5,16],-1,4, linestyles='dashed')"
   ]
  },
  {
   "cell_type": "markdown",
   "metadata": {
    "_cell_guid": "41f3e873-18ef-16ae-5f1e-1b510aa99750"
   },
   "source": [
    "So well, in fact that defining new fare categories seems almost redundant because *Pclass* already captures most of this signal. Nonetheless, we'll try; because we are optimistic people at heart. We use the dashed lines in the plot above for an (empirical) division into 3 classes, which separate the cheaper *Fare_eff* of a *Pclass* group from the more expensive ones of the next one. The new feature is called *Fare_eff_cat* and behaves as follows:"
   ]
  },
  {
   "cell_type": "code",
   "execution_count": null,
   "metadata": {
    "_cell_guid": "e4b51190-5996-80fe-8d37-2be29a90ba83"
   },
   "outputs": [],
   "source": [
    "tab = pd.crosstab(train['Fare_eff_cat'], train['Survived'])\n",
    "print(tab)\n",
    "sns.barplot('Fare_eff_cat', 'Survived', data=train)"
   ]
  },
  {
   "cell_type": "code",
   "execution_count": null,
   "metadata": {
    "_cell_guid": "b8a09758-fee4-7979-9885-497e13cf8ccd"
   },
   "outputs": [],
   "source": [
    "g = sns.factorplot(x=\"Sex\", y=\"Fare_eff_cat\", hue=\"Embarked\", col=\"Pclass\",\n",
    "                   data=train, aspect=0.9, size=3.5, ci=95.0)"
   ]
  },
  {
   "cell_type": "markdown",
   "metadata": {
    "_cell_guid": "74446dd0-69cc-1672-b977-2969350575d7"
   },
   "source": [
    "<a id='encode'></a>"
   ]
  },
  {
   "cell_type": "markdown",
   "metadata": {
    "_cell_guid": "a48ee0b2-cca4-23ee-c307-87eeae561921"
   },
   "source": [
    "[Go to the top of the page](#top)"
   ]
  },
  {
   "cell_type": "markdown",
   "metadata": {
    "_cell_guid": "3355e330-5e71-64dc-34cc-196e42b6e101"
   },
   "source": [
    "# 6. Preparing for modelling"
   ]
  },
  {
   "cell_type": "markdown",
   "metadata": {
    "_cell_guid": "44a75d5f-5f9a-f499-539e-707a4ab0cf8f"
   },
   "source": [
    "Before we start exploring the different models we are modifying the categorical string column types to integer. This is necessary since not all classifiers can handle string input."
   ]
  },
  {
   "cell_type": "code",
   "execution_count": null,
   "metadata": {
    "_cell_guid": "aa2246d9-610f-7e68-28fa-64a1605ec11a"
   },
   "outputs": [],
   "source": [
    "combine = pd.concat([train.drop('Survived',1),test])\n",
    "survived = train['Survived']\n",
    "\n",
    "combine[\"Sex\"] = combine[\"Sex\"].astype(\"category\")\n",
    "combine[\"Sex\"].cat.categories = [0,1]\n",
    "combine[\"Sex\"] = combine[\"Sex\"].astype(\"int\")\n",
    "combine[\"Embarked\"] = combine[\"Embarked\"].astype(\"category\")\n",
    "combine[\"Embarked\"].cat.categories = [0,1,2]\n",
    "combine[\"Embarked\"] = combine[\"Embarked\"].astype(\"int\")\n",
    "combine[\"Deck\"] = combine[\"Deck\"].astype(\"category\")\n",
    "combine[\"Deck\"].cat.categories = [0,1,2,3,4,5,6,7,8]\n",
    "combine[\"Deck\"] = combine[\"Deck\"].astype(\"int\")\n",
    "\n",
    "test = combine.iloc[len(train):]\n",
    "train = combine.iloc[:len(train)]\n",
    "train['Survived'] = survived\n",
    "\n",
    "train.loc[:,[\"Sex\",\"Embarked\"]].head()"
   ]
  },
  {
   "cell_type": "markdown",
   "metadata": {
    "_cell_guid": "315d9529-cae3-1e61-e84f-5e21c8384ab0"
   },
   "source": [
    "For a final overview before the modelling stage we have another look at the correlation matrix between all old and new features:"
   ]
  },
  {
   "cell_type": "code",
   "execution_count": null,
   "metadata": {
    "_cell_guid": "9a736262-8997-3454-403c-a6325911465f"
   },
   "outputs": [],
   "source": [
    "ax = plt.subplots( figsize =( 12 , 10 ) )\n",
    "foo = sns.heatmap(train.drop('PassengerId',axis=1).corr(), vmax=1.0, square=True, annot=True)"
   ]
  },
  {
   "cell_type": "markdown",
   "metadata": {
    "_cell_guid": "4316170b-528f-17b4-7c48-0648624cfba7"
   },
   "source": [
    "We designed a number of new features, and unsurprisingly several of those are correlated with the original features we used to create them. For instance *Fare\\_cat* and *Fare*. Or *Family* and *SibSp/Parch*. In the modelling step, we will first determine which of the features carry the most signal (*to be done*) and then use them to train a number of different classifiers."
   ]
  },
  {
   "cell_type": "markdown",
   "metadata": {
    "_cell_guid": "b41a7cd8-dfd8-8aff-4781-7aea5fb511cb"
   },
   "source": [
    "<a id='model'></a>"
   ]
  },
  {
   "cell_type": "markdown",
   "metadata": {
    "_cell_guid": "f6b70dab-6ef4-c120-8bad-08123614e83f"
   },
   "source": [
    "[Go to the top of the page](#top)"
   ]
  },
  {
   "cell_type": "markdown",
   "metadata": {
    "_cell_guid": "519ee551-e952-fe31-7b1f-ea3cadd12473"
   },
   "source": [
    "# 7. Modelling"
   ]
  },
  {
   "cell_type": "markdown",
   "metadata": {
    "_cell_guid": "d2db89f6-0260-ddbb-b4c6-77c835351cf9"
   },
   "source": [
    "Let's summarise briefly what we found in our data exploration:\n",
    "\n",
    "- sex and ticket class are the main factors\n",
    "\n",
    "- there seem to be additional impacts from:\n",
    "    - age: young men vs young women; (male) children\n",
    "    - relatives: parch = 1-3, sibsp = 1-2 (somewhat explained by sex but not completely)\n",
    "    - maybe the cabin deck, but not many are known\n",
    "\n",
    "- other apparent effects appear to be strongly connected to the sex/class features:\n",
    "    - port of embarkation\n",
    "    - fare\n",
    "    - sharing a ticket\n",
    "    - large family\n",
    "    - travelling alone\n",
    "    - known cabin number\n",
    "    - known age"
   ]
  },
  {
   "cell_type": "markdown",
   "metadata": {
    "_cell_guid": "1126438b-38de-f38d-36d5-03d5eb0fc31c"
   },
   "source": [
    "## *Splitting the train sample into two sub-samples: training and testing*\n",
    "\n",
    "This is best practice for evaluating the performance of our models, which should not be tested on the same data they are trained on. This avoids overfitting."
   ]
  },
  {
   "cell_type": "code",
   "execution_count": null,
   "metadata": {
    "_cell_guid": "97d7e5f9-5954-ff8a-380a-4ab6d11157b7"
   },
   "outputs": [],
   "source": [
    "training, testing = train_test_split(train, test_size=0.2, random_state=0)\n",
    "print(\"Total sample size = %i; training sample size = %i, testing sample size = %i\"\\\n",
    "     %(train.shape[0],training.shape[0],testing.shape[0]))"
   ]
  },
  {
   "cell_type": "markdown",
   "metadata": {
    "_cell_guid": "63449732-4360-c89e-853d-fd7c93098553"
   },
   "source": [
    "## *Test and select the model features*\n",
    "\n",
    "Now we are ready to model. We start with a *Logistic Regression* to assess the importance of the individual model features. We know that by definition some of our engineered features will have a *high collinearity* (i.e. behave similarly) with other new or existing features. For instance, *Young* was designed to replace *Age* and *Title* as a combination of the two. Other correlations are visible in the heatmap above. The initial modelling will allow us to decide which features are worth to take to the next step.\n",
    "\n",
    "This is an iterative process in which you improve your model step by step, until you have found the largest feature combination which still has significant impact. Removing less important features will help you to reduce the noise in your prediction and allow your model to generalise to new data (which is our priority goal in machine learning.)\n",
    "\n",
    "*TODO: This part is still quite rudimentary and will be expanded in future versions. For now, we just continue with a rather intuitive set of important features.*  "
   ]
  },
  {
   "cell_type": "code",
   "execution_count": null,
   "metadata": {
    "_cell_guid": "0a3d94f1-c2ba-ce4d-1bfd-826f6e7ef0b1"
   },
   "outputs": [],
   "source": [
    "cols = ['Sex','Pclass','Cabin_known','Large_Family','Parch',\n",
    "        'SibSp','Young','Alone','Shared_ticket','Child']\n",
    "tcols = np.append(['Survived'],cols)\n",
    "\n",
    "df = training.loc[:,tcols].dropna()\n",
    "X = df.loc[:,cols]\n",
    "y = np.ravel(df.loc[:,['Survived']])"
   ]
  },
  {
   "cell_type": "code",
   "execution_count": null,
   "metadata": {
    "_cell_guid": "c4946e7e-bab2-2d56-3ded-e8d4ed208467"
   },
   "outputs": [],
   "source": [
    "clf_log = LogisticRegression()\n",
    "clf_log = clf_log.fit(X,y)\n",
    "score_log = clf_log.score(X,y)\n",
    "print(score_log)"
   ]
  },
  {
   "cell_type": "code",
   "execution_count": null,
   "metadata": {
    "_cell_guid": "dfe387b6-ff9e-ca20-a5f0-7e16c34c919a"
   },
   "outputs": [],
   "source": [
    "pd.DataFrame(list(zip(X.columns, np.transpose(clf_log.coef_))))"
   ]
  },
  {
   "cell_type": "markdown",
   "metadata": {
    "_cell_guid": "48c2d30b-52f9-9c7f-c826-b93ef1d1268b"
   },
   "source": [
    "TODO: Say something about the contributions and follow up with some ANOVA-like analysis"
   ]
  },
  {
   "cell_type": "markdown",
   "metadata": {
    "_cell_guid": "1d544a19-eb27-50bf-7bb3-282815d7d499"
   },
   "source": [
    "## *Run and describe several different classifiers*"
   ]
  },
  {
   "cell_type": "markdown",
   "metadata": {
    "_cell_guid": "4ebffde5-6951-3fe6-f84b-065122b5ad12"
   },
   "source": [
    "Based on the first look we define the input columns we'll be working with. We also create our training and testing feature sets."
   ]
  },
  {
   "cell_type": "code",
   "execution_count": null,
   "metadata": {
    "_cell_guid": "92ff1ed1-3d0f-468f-2d3a-8539ae5fbffe"
   },
   "outputs": [],
   "source": [
    "cols = ['Sex','Pclass','Cabin_known','Large_Family','Shared_ticket','Young','Alone','Child']\n",
    "tcols = np.append(['Survived'],cols)\n",
    "\n",
    "df = training.loc[:,tcols].dropna()\n",
    "X = df.loc[:,cols]\n",
    "y = np.ravel(df.loc[:,['Survived']])\n",
    "\n",
    "df_test = testing.loc[:,tcols].dropna()\n",
    "X_test = df_test.loc[:,cols]\n",
    "y_test = np.ravel(df_test.loc[:,['Survived']])"
   ]
  },
  {
   "cell_type": "markdown",
   "metadata": {
    "_cell_guid": "ce151c57-8210-c302-802d-70e88c815260"
   },
   "source": [
    "**Logistic Regression** again, this time with only the selected columns"
   ]
  },
  {
   "cell_type": "code",
   "execution_count": null,
   "metadata": {
    "_cell_guid": "e3ede98f-a6ba-c66f-cec9-424ea5117e5f"
   },
   "outputs": [],
   "source": [
    "clf_log = LogisticRegression()\n",
    "clf_log = clf_log.fit(X,y)\n",
    "score_log = cross_val_score(clf_log, X, y, cv=5).mean()\n",
    "print(score_log)"
   ]
  },
  {
   "cell_type": "markdown",
   "metadata": {
    "_cell_guid": "6f4cc183-bd51-578e-45f7-075a4ae85b78"
   },
   "source": [
    "**Perceptron**"
   ]
  },
  {
   "cell_type": "code",
   "execution_count": null,
   "metadata": {
    "_cell_guid": "85a0d56f-9ef8-7e23-2ea0-02548550097b"
   },
   "outputs": [],
   "source": [
    "clf_pctr = Perceptron(\n",
    "    class_weight='balanced'\n",
    "    )\n",
    "clf_pctr = clf_pctr.fit(X,y)\n",
    "score_pctr = cross_val_score(clf_pctr, X, y, cv=5).mean()\n",
    "print(score_pctr)"
   ]
  },
  {
   "cell_type": "markdown",
   "metadata": {
    "_cell_guid": "49244afd-a1b3-faed-96f1-353b954810eb"
   },
   "source": [
    "*Perceptron:* This is a binary classifier that creates a linear decision boundary based on a (hyper-) plane in the parameter space.\n",
    "\n",
    "[Source](https://en.wikipedia.org/wiki/Perceptron)"
   ]
  },
  {
   "cell_type": "markdown",
   "metadata": {
    "_cell_guid": "a4358c94-d775-5925-a5e3-9b7d4022f3d6"
   },
   "source": [
    "**K Nearest Neighbours:**"
   ]
  },
  {
   "cell_type": "code",
   "execution_count": null,
   "metadata": {
    "_cell_guid": "0971daf0-5837-dfe7-b502-a665ddd49ebe"
   },
   "outputs": [],
   "source": [
    "clf_knn = KNeighborsClassifier(\n",
    "    n_neighbors=10,\n",
    "    weights='distance'\n",
    "    )\n",
    "clf_knn = clf_knn.fit(X,y)\n",
    "score_knn = cross_val_score(clf_knn, X, y, cv=5).mean()\n",
    "print(score_knn)"
   ]
  },
  {
   "cell_type": "markdown",
   "metadata": {
    "_cell_guid": "933aa0b4-326e-ce91-4124-1875886bf168"
   },
   "source": [
    "*Nearest Neighbours*: a non-parametric classifier that uses the training data closest to each test data point to classify it. *K* is simply the number of neighbours that are making the decision by majority vote. This is a simple yet powerful method that works well for irregular decision boundaries.\n",
    "\n",
    "Important parameters:\n",
    "\n",
    "- n_neighbors: choosing the right *k* depends heavily on the data. Larger values suppress noise but smooth out decision boundaries. Default: 5.\n",
    "\n",
    "- weights: *uniform* assigns equal weight to each neighbour, whereas *distance* gives more weight to neighbours that are closer.\n",
    "\n",
    "[Source](http://scikit-learn.org/stable/modules/neighbors.html)"
   ]
  },
  {
   "cell_type": "markdown",
   "metadata": {
    "_cell_guid": "9f24ef1b-f4d1-29ec-3e2f-bf240374efea"
   },
   "source": [
    "**Support Vector Machine:**"
   ]
  },
  {
   "cell_type": "code",
   "execution_count": null,
   "metadata": {
    "_cell_guid": "32343188-1302-39ca-ed5e-cbab9e4cc38e"
   },
   "outputs": [],
   "source": [
    "clf_svm = svm.SVC(\n",
    "    class_weight='balanced'\n",
    "    )\n",
    "clf_svm.fit(X, y)\n",
    "score_svm = cross_val_score(clf_svm, X, y, cv=5).mean()\n",
    "print(score_svm)"
   ]
  },
  {
   "cell_type": "markdown",
   "metadata": {
    "_cell_guid": "c32469fc-4da0-c651-58b9-02b03d7eca4a"
   },
   "source": [
    "*Support Vector Machine:* This classifier fits a (set of) hyper-plane(s) in the high-dimensional space of the training features so that this plane has the largest distance to any training data points. This is easy to visualise in 2 dimensions as e.g. 1 line that separates 2 classes (see the link below). In higher dimensions only mathematics can save you.\n",
    "\n",
    "The *support vectors* are a subset of training data points used in the decision function. For unbalanced problems setting *class\\_weight='balanced'* might be helpful (compare decision tree notes).\n",
    "\n",
    "Advantages: Effectiv in high dimensions and versatile with different kernel options.\n",
    "\n",
    "[Source](http://scikit-learn.org/stable/modules/svm.html)"
   ]
  },
  {
   "cell_type": "markdown",
   "metadata": {
    "_cell_guid": "cd8408bb-7878-1637-c398-02e394f5e564"
   },
   "source": [
    "**Bagging:**"
   ]
  },
  {
   "cell_type": "code",
   "execution_count": null,
   "metadata": {
    "_cell_guid": "c35edbe5-cb91-6e24-24f4-02e6bad4254d"
   },
   "outputs": [],
   "source": [
    "bagging = BaggingClassifier(\n",
    "    KNeighborsClassifier(\n",
    "        n_neighbors=2,\n",
    "        weights='distance'\n",
    "        ),\n",
    "    oob_score=True,\n",
    "    max_samples=0.5,\n",
    "    max_features=1.0\n",
    "    )\n",
    "clf_bag = bagging.fit(X,y)\n",
    "score_bag = clf_bag.oob_score_\n",
    "print(score_bag)"
   ]
  },
  {
   "cell_type": "markdown",
   "metadata": {
    "_cell_guid": "2f226eb3-e628-d777-908c-74c59a9c4028"
   },
   "source": [
    "*Bagging* is a general ensemble method. This means it's a way to average over a (large) number of individual classifiers to improve their accuracy by reducing the variance (= noise). The estimator (above it's a KNN) is used multiple times on *subsets* of the training sample and then it uses the average vote.\n",
    "\n",
    "Bagging for a decision tree classifier should be the same as using a *Random Forest* (see below).\n",
    "\n",
    "Strictly speaking, bagging is only the correct term if the sub samples are drawn with *replacement* (i.e. put back into the bag, I suppose). Otherwise it's called *Pasting*.\n",
    "\n",
    "If sub-samples are used then the remaining samples (the ones not in the bag we're drawing the data from) can be used in *out-of-bag (oob)* estimates (-> *oob\\_score=True*). This is a kind of inbuilt cross-validation step, since the accuracy (score) of the classifier is estimated on data it wasn't trained on.\n",
    "\n",
    "[Source](http://scikit-learn.org/stable/modules/ensemble.html#bagging-meta-estimator)"
   ]
  },
  {
   "cell_type": "markdown",
   "metadata": {
    "_cell_guid": "18ac6562-7249-82b8-8a6c-050189b326ec"
   },
   "source": [
    "**Decision Tree:**"
   ]
  },
  {
   "cell_type": "code",
   "execution_count": null,
   "metadata": {
    "_cell_guid": "bc833b25-e0c9-5bf5-4344-8f000e75b2d0"
   },
   "outputs": [],
   "source": [
    "clf_tree = tree.DecisionTreeClassifier(\n",
    "    #max_depth=3,\\\n",
    "    class_weight=\"balanced\",\\\n",
    "    min_weight_fraction_leaf=0.01\\\n",
    "    )\n",
    "clf_tree = clf_tree.fit(X,y)\n",
    "score_tree = cross_val_score(clf_tree, X, y, cv=5).mean()\n",
    "print(score_tree)"
   ]
  },
  {
   "cell_type": "markdown",
   "metadata": {
    "_cell_guid": "aeb03cf8-1536-e2b6-3e1b-80f8e790ada7"
   },
   "source": [
    "*Decision Tree:* One of the classifiers that's easiest to visualise. Each tree is a series of if-then-else decisions. Example: *if* sex ==  male *then* go left *else* go right. Here, *left* and *right* defines a split at a so called *node* - the decision itself. The first split can be followed up by additional ones to narrow down the decision criteria (based on the subset defined by each previous split).\n",
    "\n",
    "One visualisation of this process is a tree trunk *branching off* into successively smaller structures. Hence: decision *tree*. Consequently, the result of the final splits are called *leaf notes* - on a tree, it doesn't get smaller than leafs.\n",
    "\n",
    "Advantages of decision trees are that they can deal with both numerical and categorical data, are able to handle multi-output problems, and are easy to follow and interpret.\n",
    "\n",
    "Disadvantages include:\n",
    "\n",
    "- Problem: A tendency to overfitting. Solution: pruning, setting maximum depth, or PCA beforehand to find the right number of features. Visualising the tree helps to understand how well it is fitting the data.\n",
    "\n",
    "- Problem: Unstable to small variations in the data. Solution: ensembles.\n",
    "\n",
    "- Problem: Creating biased trees if some classes dominate. Solution: balance the data set by either sampling the same number of samples from each class or by adjusting the *sample_weight* parameter to normalise the sum of the class weights to the same value. Following that, parameter *min_weight_fraction_leaf* is less biased towards dominating classes.\n",
    "\n",
    "- Problem: Being just not easy to fit to certain concepts that don't lend themselves to clear yes-or-no decisions. Solution: Use a different classifier.\n",
    "\n",
    "Additional notes:\n",
    "\n",
    "- Parameters *min_samples_split* and *min_samples_leaf* control the number of samples at a leaf note. min_samples_leaf=5 is a useful initial value. A small number will lead to overfitting, a large number prevents learning.\n",
    "\n",
    "- For sparse X convert to sparse *csc_matrix* to speed up the learning\n",
    "\n",
    "All of the information above is digested from the [sklearn documentation](http://scikit-learn.org/stable/modules/tree.html)"
   ]
  },
  {
   "cell_type": "markdown",
   "metadata": {
    "_cell_guid": "fd7cca01-9753-6809-3c41-dd14309713f4"
   },
   "source": [
    "**Random Forest**"
   ]
  },
  {
   "cell_type": "code",
   "execution_count": null,
   "metadata": {
    "_cell_guid": "172745d2-9423-0547-3b8f-7403ebf6664e"
   },
   "outputs": [],
   "source": [
    "clf_rf = RandomForestClassifier(\n",
    "    n_estimators=1000, \\\n",
    "    max_depth=None, \\\n",
    "    min_samples_split=10 \\\n",
    "    #class_weight=\"balanced\", \\\n",
    "    #min_weight_fraction_leaf=0.02 \\\n",
    "    )\n",
    "clf_rf = clf_rf.fit(X,y)\n",
    "score_rf = cross_val_score(clf_rf, X, y, cv=5).mean()\n",
    "print(score_rf)"
   ]
  },
  {
   "cell_type": "markdown",
   "metadata": {
    "_cell_guid": "fa026b30-36e6-06c7-5e99-a72c625882a4"
   },
   "source": [
    "*Random Forest:* As the name suggests, this classifier is using a number of decision trees instead of just a single one. Thereby, this is an *ensemble method* which combines the results of individual classifiers to improve the accuracy. Think of it as an average of estimators. An individual estimator may have a poor accuracy but if you combine several of them the resulting mean (or median) average will have a reduced uncertainty. Similar to the standard error of the mean for sampling normal distributions.\n",
    "\n",
    "There are two types of ensemble methods: *boosting*, used below, and *averaging* (or *bagging*; see above). A random forest is an averaging classifier for which we train several estimators independently and then average over their individual predictions. Boosting works best for weak learners (e.g. decision stumps) whereas for Bagging/Averaging to be successful we want to overfit a little\n",
    "\n",
    "The *random* in *random forest* comes from the method of training each tree using a random bootstrap sample (i.e. one with replacement) of the original training set. Further randomness is introduced by making the node split dependent on a random subset of features instead of all of them. Here single trees are combined through the average of the prediction probabilities.\n",
    "\n",
    "In addition to the tree parameters, the most important settings are:\n",
    "\n",
    "- n_estimators: number of trees. The larger the better, although improvements become marginal eventually\n",
    "\n",
    "- max_features: number of random features per subset. Lower numbers decrease variance and increase bias. Rule of thumb for classification: max_features = sqrt(all_features). This is the default setting.\n",
    "\n",
    "One suggestion is to use a large number of highly overfitted trees with small split limits and no depth limit.\n",
    "\n",
    "Once more, this info was digested from the [sklearn documentation](http://scikit-learn.org/stable/modules/ensemble.html#forest)"
   ]
  },
  {
   "cell_type": "markdown",
   "metadata": {
    "_cell_guid": "f5faf933-3180-db48-bcff-2d2d1ac9aeaf"
   },
   "source": [
    "**Extremely Randomised Trees**"
   ]
  },
  {
   "cell_type": "code",
   "execution_count": null,
   "metadata": {
    "_cell_guid": "c6a175e5-49cd-f7a5-481a-d6847f0d95ad"
   },
   "outputs": [],
   "source": [
    "clf_ext = ExtraTreesClassifier(\n",
    "    max_features='auto',\n",
    "    bootstrap=True,\n",
    "    oob_score=True,\n",
    "    n_estimators=1000,\n",
    "    max_depth=None,\n",
    "    min_samples_split=10\n",
    "    #class_weight=\"balanced\",\n",
    "    #min_weight_fraction_leaf=0.02\n",
    "    )\n",
    "clf_ext = clf_ext.fit(X,y)\n",
    "score_ext = cross_val_score(clf_ext, X, y, cv=5).mean()\n",
    "print(score_ext)"
   ]
  },
  {
   "cell_type": "markdown",
   "metadata": {
    "_cell_guid": "4546719b-087e-1a0e-707e-cfba213426c5"
   },
   "source": [
    "*Extremely Randomised Trees* is an ensemble classifier similar to random forests. An additional randomness is introduced by selecting random thresholds for each feature and using the best-performing threshold.\n",
    "\n",
    "Here we also use an \"Out-of-bag score\" (*oob\\_score = True*). This means that we grow our trees from a sub-sample of the training sample (using bootstrapping: *boostrap = True*) and estimate the accuracy based on those entries that were not picked (i.e. \"left out of the bag\"). This gives us a better impression how robust our results are towards generalisation, i.e. how well the classifier that was trained on a particular sample can be applied to new data. \n",
    "\n",
    "Because this is ultimately our goal: to apply the classification method we \"learn\" from the training data to any data (in particular the one that is used to judge this competition). There is little use in having a classifier that replicates perfectly the training data by following every random noise feature in that data (called *overfitting*) but doesn't perform well with new data.\n",
    "\n",
    "The principles of *bootstrapping* and the *out-of-bag score* can be applied to most classifiers and we already used them in the *bagging* classifier above. Here we just focus a bit on the underlying idea."
   ]
  },
  {
   "cell_type": "markdown",
   "metadata": {
    "_cell_guid": "08d81f06-a660-9fa7-e1b6-9b6c56348b96"
   },
   "source": [
    "**Gradient Boosting:**"
   ]
  },
  {
   "cell_type": "code",
   "execution_count": null,
   "metadata": {
    "_cell_guid": "e17b7d22-3bc3-3804-01f1-da8abeb637b6"
   },
   "outputs": [],
   "source": [
    "import warnings\n",
    "warnings.filterwarnings(\"ignore\")\n",
    "\n",
    "clf_gb = GradientBoostingClassifier(\n",
    "            #loss='exponential',\n",
    "            n_estimators=1000,\n",
    "            learning_rate=0.1,\n",
    "            max_depth=3,\n",
    "            subsample=0.5,\n",
    "            random_state=0).fit(X, y)\n",
    "clf_gb.fit(X,y)\n",
    "score_gb = cross_val_score(clf_gb, X, y, cv=5).mean()\n",
    "print(score_gb)"
   ]
  },
  {
   "cell_type": "markdown",
   "metadata": {
    "_cell_guid": "2436ca7c-d2c7-502a-9869-f430bffae66a"
   },
   "source": [
    "*Gradient boosting:* This is what we call the step-by-step improvement of a weak classifier (like a tree with only 1 node) by successively applying this classifier to the residuals of the previous classifier's results. \n",
    "\n",
    "For example: we fit a tree, determine its results (prediction: survived vs not survived), compute the residuals of this prediction vs the real survival numbers (all in the training data, of course), and then fit another tree to these residuals. This tree can now consider the full number of training samples for splitting a node at another feature, instead of having to deal with the decreased sample after the first original node (and the resulting impact of random fluctuations). This can be done again and again for n_estimator number of times.\n",
    "\n",
    "The weak classifier itself does not necessarily have to be a tree, but a tree seems to be the favourite approach to use here. Another convention is to initialise this sequence of models with a single prediction value (like the mean of the training survival values).\n",
    "\n",
    "Instead of reducing the residuals (and the corresponding squared errors) Gradient Boosting focusses on minimising the *Loss Function* by training the classifier on the *gradient* of this function. The Loss Function describes how much the prediction is improved when shifting the predicted values by a certain amount. The method of *Gradient Decent* uses this Loss Function to iteratively move into the direction of its greatest decent (i.e. most negative first derivative). The step sizes can vary from iteration to iteration.\n",
    "\n",
    "An additional concept is *Shrinkage*. Here, the size of each step multiplied by a factor (0,1]. In the model parameters, this factor is called the *learning_rate*. Lower learning rates make for a slower decent which seems to be empirically more effective. \n",
    "\n",
    "One more step is to provide a sampling of rows and features, like in the random forest discussed above, to increase the diversity in tree splits and thereby a larger amount of information for the method to work with.\n",
    "\n",
    "The important parameters are:\n",
    "\n",
    "- n_estimators: number of boosting stages; more is better\n",
    "\n",
    "- learning_rate: smaller steps need more stages\n",
    "\n",
    "- max_depth: tune for best performance; depends on interaction of features\n",
    "\n",
    "- subsample: only train on a sub sample of the data set drawn without replacement. This is called *Stochastic Gradient Decent*\n",
    "\n",
    "[Source 1](http://blog.kaggle.com/2017/01/23/a-kaggle-master-explains-gradient-boosting/)\n",
    "\n",
    "[Source 2](<http://scikit-learn.org/stable/modules/ensemble.html#gradient-tree-boosting)\n",
    "\n",
    "\n",
    "\n",
    "\n",
    "In addition: This is the only instance where we import a module right when it's needed instead of up top. Normally, I would recommend not to ignore warnings but to fix what's causing them. However, here we get 1 warning per n_estimators from a depreciation warning in the inner workings of the classifier, over which we have no control. Therefore: ignore."
   ]
  },
  {
   "cell_type": "markdown",
   "metadata": {
    "_cell_guid": "fb57e1ad-1ea6-62d0-15f5-af3768f9bc2b"
   },
   "source": [
    "**Ada Boost:**"
   ]
  },
  {
   "cell_type": "code",
   "execution_count": null,
   "metadata": {
    "_cell_guid": "4d7f72e9-d6c7-69f6-1f13-e9eb3cb22086"
   },
   "outputs": [],
   "source": [
    "clf_ada = AdaBoostClassifier(n_estimators=400, learning_rate=0.1)\n",
    "clf_ada.fit(X,y)\n",
    "score_ada = cross_val_score(clf_ada, X, y, cv=5).mean()\n",
    "print(score_ada)"
   ]
  },
  {
   "cell_type": "markdown",
   "metadata": {
    "_cell_guid": "796fa059-b829-d979-a506-11c24d6f1232"
   },
   "source": [
    "*AdaBoost*: A boosting classifier that fits sequences of weak learners that are progressively weighted toward those features that the previous weak learners misclassified."
   ]
  },
  {
   "cell_type": "markdown",
   "metadata": {
    "_cell_guid": "5e57d269-c552-f6bb-04be-27f126bbdc22"
   },
   "source": [
    "**eXtreme Gradient Boosting:**"
   ]
  },
  {
   "cell_type": "code",
   "execution_count": null,
   "metadata": {
    "_cell_guid": "51bf7603-a8c5-29b7-7907-8a594eca7eb1"
   },
   "outputs": [],
   "source": [
    "clf_xgb = xgb.XGBClassifier(\n",
    "    max_depth=2,\n",
    "    n_estimators=500,\n",
    "    subsample=0.5,\n",
    "    learning_rate=0.1\n",
    "    )\n",
    "clf_xgb.fit(X,y)\n",
    "score_xgb = cross_val_score(clf_xgb, X, y, cv=5).mean()\n",
    "print(score_xgb)"
   ]
  },
  {
   "cell_type": "markdown",
   "metadata": {
    "_cell_guid": "df04fa2a-c278-d1ae-79a5-c413e6753d6d"
   },
   "source": [
    "*eXtreme Gradient Boosting:* It's a good name for a band and also the flavour of the month tool for kaggle competitions in 2016."
   ]
  },
  {
   "cell_type": "markdown",
   "metadata": {
    "_cell_guid": "55829776-3c77-9b74-83bc-3f4daa1dcef9"
   },
   "source": [
    "## *Examining/Optimising one classifier in more detail:*"
   ]
  },
  {
   "cell_type": "markdown",
   "metadata": {
    "_cell_guid": "eab41c76-81d1-4aae-f381-f4305dc158e2"
   },
   "source": [
    "For each of these various classifiers we can have a closer look to improve their performance and understand their output. As an example we'll be using the *Extremely Randomized Trees*, but any other classifier can be substituted instead.\n",
    "\n",
    "We will start with a *grid search algorithm* to find the best parameters to run our classifier. This is called [*tuning of the hyper-parameters*](http://scikit-learn.org/stable/modules/grid_search.html). The idea is to define a number of possible values for each hyper-parameter. Together, these sets of values define a grid (which is quite easy to visualise in two dimensions). Then, we evaluate the score of the classifier at each grid point and pick the one parameter combination that gives us the best score."
   ]
  },
  {
   "cell_type": "code",
   "execution_count": null,
   "metadata": {
    "_cell_guid": "73f65246-13cc-2465-f9ff-3c2410409c88"
   },
   "outputs": [],
   "source": [
    "clf_ext = ExtraTreesClassifier(max_features='auto',bootstrap=True,oob_score=True)\n",
    "param_grid = { \"criterion\" : [\"gini\", \"entropy\"],\n",
    "              \"min_samples_leaf\" : [1, 5, 10],\n",
    "              \"min_samples_split\" : [8, 10, 12],\n",
    "              \"n_estimators\": [20, 50, 100]}\n",
    "gs = GridSearchCV(estimator=clf_ext, param_grid=param_grid, scoring='accuracy', cv=3)\n",
    "gs = gs.fit(X,y)\n",
    "print(gs.best_score_)\n",
    "print(gs.best_params_)"
   ]
  },
  {
   "cell_type": "markdown",
   "metadata": {
    "_cell_guid": "b65aa8af-c616-0df9-6a32-de438454b534"
   },
   "source": [
    "With these optimised parameters let's have a look at the feature importance that this classifier gives us:"
   ]
  },
  {
   "cell_type": "code",
   "execution_count": null,
   "metadata": {
    "_cell_guid": "6e9da46d-a09e-adf7-a178-1c684fd9a4ef"
   },
   "outputs": [],
   "source": [
    "clf_ext = ExtraTreesClassifier(\n",
    "    max_features='auto',\n",
    "    bootstrap=True,\n",
    "    oob_score=True,\n",
    "    criterion='gini',\n",
    "    min_samples_leaf=5,\n",
    "    min_samples_split=8,\n",
    "    n_estimators=50\n",
    "    )\n",
    "clf_ext = clf_ext.fit(X,y)\n",
    "score_ext = clf_ext.score(X,y)\n",
    "print(score_ext)\n",
    "pd.DataFrame(list(zip(X.columns, np.transpose(clf_ext.feature_importances_))) \\\n",
    "            ).sort_values(1, ascending=False)"
   ]
  },
  {
   "cell_type": "markdown",
   "metadata": {
    "_cell_guid": "95c989aa-87d0-9816-2cae-7504a6fc2335"
   },
   "source": [
    "As expected, *Pclass* and *Sex* have the most impact, but our engineered features are doing not bad either."
   ]
  },
  {
   "cell_type": "markdown",
   "metadata": {
    "_cell_guid": "1ba0864a-5006-f5f2-35dc-3f3199768032"
   },
   "source": [
    "Following a suggestion by [Taner](https://www.kaggle.com/kiralt) in the comments we also use a *Confusion Matrix* to evaluate the performance of our classifier. A confusion matrix contains more information than a simple score because it shows how many data points of each class were correctly/incorrectly classified. It's like a correlation matrix, in a sense. A plot will explain it better than 1000 words. First we define some plotting function; then we plot."
   ]
  },
  {
   "cell_type": "code",
   "execution_count": null,
   "metadata": {
    "_cell_guid": "4d2114e3-e47c-5e6b-bc77-8cbb59e9ba4d"
   },
   "outputs": [],
   "source": [
    "# Taner's code\n",
    "def show_confusion_matrix(cnf_matrix, class_labels):\n",
    "    plt.matshow(cnf_matrix,cmap=plt.cm.YlGn,alpha=0.7)\n",
    "    ax = plt.gca()\n",
    "    ax.set_xlabel('Predicted Label', fontsize=16)\n",
    "    ax.set_xticks(range(0,len(class_labels)))\n",
    "    ax.set_xticklabels(class_labels,rotation=45)\n",
    "    ax.set_ylabel('Actual Label', fontsize=16, rotation=90)\n",
    "    ax.set_yticks(range(0,len(class_labels)))\n",
    "    ax.set_yticklabels(class_labels)\n",
    "    ax.xaxis.set_label_position('top')\n",
    "    ax.xaxis.tick_top()\n",
    "\n",
    "    for row in range(len(cnf_matrix)):\n",
    "        for col in range(len(cnf_matrix[row])):\n",
    "            ax.text(col, row, cnf_matrix[row][col], va='center', ha='center', fontsize=16)\n",
    "\n",
    "# sklearn example code\n",
    "def plot_confusion_matrix(cm, classes,\n",
    "                          normalize=False,\n",
    "                          title='Confusion matrix',\n",
    "                          cmap=plt.cm.Blues):\n",
    "    \"\"\"\n",
    "    This function prints and plots the confusion matrix.\n",
    "    Normalization can be applied by setting `normalize=True`.\n",
    "    \"\"\"\n",
    "    plt.imshow(cm, interpolation='nearest', cmap=cmap)\n",
    "    plt.title(title)\n",
    "    plt.colorbar()\n",
    "    tick_marks = np.arange(len(classes))\n",
    "    plt.xticks(tick_marks, classes, rotation=45)\n",
    "    plt.yticks(tick_marks, classes)\n",
    "\n",
    "    if normalize:\n",
    "        cm = cm.astype('float') / cm.sum(axis=1)[:, np.newaxis]\n",
    "        print(\"Normalized confusion matrix\")\n",
    "    else:\n",
    "        print('Confusion matrix, without normalization')\n",
    "\n",
    "    print(cm)\n",
    "\n",
    "    thresh = cm.max() / 2.\n",
    "    for i, j in itertools.product(range(cm.shape[0]), range(cm.shape[1])):\n",
    "        plt.text(j, i, cm[i, j],\n",
    "                 horizontalalignment=\"center\",\n",
    "                 color=\"white\" if cm[i, j] > thresh else \"black\")\n",
    "\n",
    "    plt.tight_layout()\n",
    "    plt.ylabel('True label')\n",
    "    plt.xlabel('Predicted label')\n",
    "\n",
    "class_names = [\"Dead\", \"Alive\"]\n",
    "cnf_matrix = confusion_matrix(clf_ext.predict(X_test),y_test)\n",
    "\n",
    "# from: http://notmatthancock.github.io/2015/10/28/confusion-matrix.html\n",
    "def show_confusion_matrix2(C,class_labels=['0','1']):\n",
    "    \"\"\"\n",
    "    C: ndarray, shape (2,2) as given by scikit-learn confusion_matrix function\n",
    "    class_labels: list of strings, default simply labels 0 and 1.\n",
    "\n",
    "    Draws confusion matrix with associated metrics.\n",
    "    \"\"\"\n",
    "    import matplotlib.pyplot as plt\n",
    "    import numpy as np\n",
    "    \n",
    "    assert C.shape == (2,2), \"Confusion matrix should be from binary classification only.\"\n",
    "    \n",
    "    # true negative, false positive, etc...\n",
    "    tn = C[0,0]; fp = C[0,1]; fn = C[1,0]; tp = C[1,1];\n",
    "\n",
    "    NP = fn+tp # Num positive examples\n",
    "    NN = tn+fp # Num negative examples\n",
    "    N  = NP+NN\n",
    "\n",
    "    fig = plt.figure(figsize=(8,8))\n",
    "    ax  = fig.add_subplot(111)\n",
    "    ax.imshow(C, interpolation='nearest', cmap=plt.cm.gray)\n",
    "\n",
    "    # Draw the grid boxes\n",
    "    ax.set_xlim(-0.5,2.5)\n",
    "    ax.set_ylim(2.5,-0.5)\n",
    "    ax.plot([-0.5,2.5],[0.5,0.5], '-k', lw=2)\n",
    "    ax.plot([-0.5,2.5],[1.5,1.5], '-k', lw=2)\n",
    "    ax.plot([0.5,0.5],[-0.5,2.5], '-k', lw=2)\n",
    "    ax.plot([1.5,1.5],[-0.5,2.5], '-k', lw=2)\n",
    "\n",
    "    # Set xlabels\n",
    "    ax.set_xlabel('Predicted Label', fontsize=16)\n",
    "    ax.set_xticks([0,1,2])\n",
    "    ax.set_xticklabels(class_labels + [''])\n",
    "    ax.xaxis.set_label_position('top')\n",
    "    ax.xaxis.tick_top()\n",
    "    # These coordinate might require some tinkering. Ditto for y, below.\n",
    "    ax.xaxis.set_label_coords(0.34,1.06)\n",
    "\n",
    "    # Set ylabels\n",
    "    ax.set_ylabel('True Label', fontsize=16, rotation=90)\n",
    "    ax.set_yticklabels(class_labels + [''],rotation=90)\n",
    "    ax.set_yticks([0,1,2])\n",
    "    ax.yaxis.set_label_coords(-0.09,0.65)\n",
    "\n",
    "\n",
    "    # Fill in initial metrics: tp, tn, etc...\n",
    "    ax.text(0,0,\n",
    "            'True Neg: %d\\n(Num Neg: %d)'%(tn,NN),\n",
    "            va='center',\n",
    "            ha='center',\n",
    "            bbox=dict(fc='w',boxstyle='round,pad=1'))\n",
    "\n",
    "    ax.text(0,1,\n",
    "            'False Neg: %d'%fn,\n",
    "            va='center',\n",
    "            ha='center',\n",
    "            bbox=dict(fc='w',boxstyle='round,pad=1'))\n",
    "\n",
    "    ax.text(1,0,\n",
    "            'False Pos: %d'%fp,\n",
    "            va='center',\n",
    "            ha='center',\n",
    "            bbox=dict(fc='w',boxstyle='round,pad=1'))\n",
    "\n",
    "\n",
    "    ax.text(1,1,\n",
    "            'True Pos: %d\\n(Num Pos: %d)'%(tp,NP),\n",
    "            va='center',\n",
    "            ha='center',\n",
    "            bbox=dict(fc='w',boxstyle='round,pad=1'))\n",
    "\n",
    "    # Fill in secondary metrics: accuracy, true pos rate, etc...\n",
    "    ax.text(2,0,\n",
    "            'False Pos Rate: %.2f'%(fp / (fp+tn+0.)),\n",
    "            va='center',\n",
    "            ha='center',\n",
    "            bbox=dict(fc='w',boxstyle='round,pad=1'))\n",
    "\n",
    "    ax.text(2,1,\n",
    "            'True Pos Rate: %.2f'%(tp / (tp+fn+0.)),\n",
    "            va='center',\n",
    "            ha='center',\n",
    "            bbox=dict(fc='w',boxstyle='round,pad=1'))\n",
    "\n",
    "    ax.text(2,2,\n",
    "            'Accuracy: %.2f'%((tp+tn+0.)/N),\n",
    "            va='center',\n",
    "            ha='center',\n",
    "            bbox=dict(fc='w',boxstyle='round,pad=1'))\n",
    "\n",
    "    ax.text(0,2,\n",
    "            'Neg Pre Val: %.2f'%(1-fn/(fn+tn+0.)),\n",
    "            va='center',\n",
    "            ha='center',\n",
    "            bbox=dict(fc='w',boxstyle='round,pad=1'))\n",
    "\n",
    "    ax.text(1,2,\n",
    "            'Pos Pred Val: %.2f'%(tp/(tp+fp+0.)),\n",
    "            va='center',\n",
    "            ha='center',\n",
    "            bbox=dict(fc='w',boxstyle='round,pad=1'))\n",
    "\n",
    "\n",
    "    plt.tight_layout()\n",
    "    plt.show()"
   ]
  },
  {
   "cell_type": "code",
   "execution_count": null,
   "metadata": {
    "_cell_guid": "7347025d-d458-2394-0445-3ca7c3808604"
   },
   "outputs": [],
   "source": [
    "show_confusion_matrix(cnf_matrix,class_names)\n",
    "#show_confusion_matrix2(cnf_matrix,class_names)\n",
    "#plot_confusion_matrix(cnf_matrix, classes=class_names, normalize=True,\n",
    "#                     title='Normalized confusion matrix')\n",
    "#sns.heatmap(cnf_matrix, annot=True)"
   ]
  },
  {
   "cell_type": "markdown",
   "metadata": {
    "_cell_guid": "46daf2a8-c179-413e-1ea1-3a28d09b7644"
   },
   "source": [
    "Here we see that in the testing data set (based on our train/test split) 12 people who survived were misclassified as dead, whereas 21 who died were misclassified as having survived. That is roughly 20% of the cases that were classified correctly. The confusion matrix plot would allow us to identify significant *imbalances* in our prediction between the false positives and the false negatives. For instance if the off-diagonal elements were 0 and 30. For our case there doesn't seem to be an imbalance.\n",
    "\n",
    "Here we use Taner's function and also include the \"official\" [sklearn example](http://scikit-learn.org/stable/auto_examples/model_selection/plot_confusion_matrix.html) for plotting confusion matrices. The latter one, which you can comment also includes the possibility to plot a *normalised* confusion matrix. In addition, we include the option to use a confusion matrix from [this website](http://notmatthancock.github.io/2015/10/28/confusion-matrix.html) which shows more information if we need it. Alternatively, you can use a seaborn heatmap for a quick and easy (but less pretty) plot. Just change the comment tags to switch between the options. Admittedly, 4 different ones are a bit of an overkill, but why not document what we found."
   ]
  },
  {
   "cell_type": "markdown",
   "metadata": {
    "_cell_guid": "def2bd8f-4d53-b1be-dcd4-9d314fafaf5f"
   },
   "source": [
    "## *Model validation*"
   ]
  },
  {
   "cell_type": "markdown",
   "metadata": {
    "_cell_guid": "f8d45619-a23c-7a9f-4702-e4d11d162ac2"
   },
   "source": [
    "We want to make sure that our classifiers are not overfitting random data features. One of the most popular ways to check a model for robustness is called *cross validation*.\n",
    "\n",
    "It's an approach similar to bootstrapping, where we use smaller samples from our data set to check whether the classifier gives similar results for each of them.\n",
    "\n",
    "First a simple cross-validation using the helper function *cross\\_val\\_score*. By default, the data is divided up into *k* equally sized sub-samples (or *folds*) and the classifier is trained on *k-1* of them and evaluated on the remaining one (e.g. for k = 4 we use 4 samples, leave each of them out once and train on the other 3, then evaluate on the one we've left out). This process is called *K-fold cross validation*.  The parameter *cv* here defines the*number* of folds (or alternatively something more complex as described in the [docs](http://scikit-learn.org/stable/modules/generated/sklearn.model_selection.cross_val_score.html) ).  The method used for computing the scores is by default the native scoring method of the classifier (but can be changed).\n",
    "\n",
    "More background info [here](http://scikit-learn.org/stable/modules/cross_validation.html).\n",
    "\n",
    "*We've already used this cross-validation above to compute the scores for the individual classifiers.*"
   ]
  },
  {
   "cell_type": "code",
   "execution_count": null,
   "metadata": {
    "_cell_guid": "57814cf7-fffd-2f03-69bd-82c58a8ac32d"
   },
   "outputs": [],
   "source": [
    "clf = clf_ext\n",
    "scores = cross_val_score(clf, X, y, cv=5)\n",
    "print(scores)\n",
    "print(\"Mean score = %.3f, Std deviation = %.3f\"%(np.mean(scores),np.std(scores)))"
   ]
  },
  {
   "cell_type": "markdown",
   "metadata": {
    "_cell_guid": "301f7c0d-8f75-cf16-b2d9-6f19b0d27ce8"
   },
   "source": [
    "As far as I can see, there's still quite a bit of variation here."
   ]
  },
  {
   "cell_type": "markdown",
   "metadata": {
    "_cell_guid": "3bdb75bd-35a3-ee2f-27a4-93f9c54d1529"
   },
   "source": [
    "Final validation with the testing data set:"
   ]
  },
  {
   "cell_type": "code",
   "execution_count": null,
   "metadata": {
    "_cell_guid": "30dc03e3-7b5f-8d43-1a62-5e17f2b124f7"
   },
   "outputs": [],
   "source": [
    "score_ext_test = clf_ext.score(X_test,y_test)\n",
    "print(score_ext_test)"
   ]
  },
  {
   "cell_type": "markdown",
   "metadata": {
    "_cell_guid": "64407831-55c3-8d39-34f3-e47d459ceac6"
   },
   "source": [
    "TODO: Expand this section"
   ]
  },
  {
   "cell_type": "markdown",
   "metadata": {
    "_cell_guid": "41d076b6-b060-c877-d0bb-f5d7292ce7a7"
   },
   "source": [
    "## *Ranking of models and features*"
   ]
  },
  {
   "cell_type": "markdown",
   "metadata": {
    "_cell_guid": "e5dac8cd-39e6-75f4-c3a1-c0b45ad39ddd"
   },
   "source": [
    "**Ranking of models.** I've 'borrowed' that one straight from this very nice kernel, because it's a useful summary display of how our models perform:\n",
    "<https://www.kaggle.com/startupsci/titanic/titanic-data-science-solutions>"
   ]
  },
  {
   "cell_type": "code",
   "execution_count": null,
   "metadata": {
    "_cell_guid": "9c453b09-4f5d-9e20-6827-8fa632da93c7"
   },
   "outputs": [],
   "source": [
    "models = pd.DataFrame({\n",
    "    'Model': ['Support Vector Machines', 'KNN', 'Logistic Regression', \n",
    "              'Random Forest', 'Gradient Boosting', 'Bagging KNN', \n",
    "              'Decision Tree','XGBoost','ExtraTree','Perceptron'],\n",
    "    'Score': [score_svm, score_knn, score_log, score_rf, score_gb, score_bag,\n",
    "              score_tree,score_xgb,score_ext,score_pctr]})\n",
    "models.sort_values(by='Score', ascending=False)"
   ]
  },
  {
   "cell_type": "markdown",
   "metadata": {
    "_cell_guid": "3c695e45-abf0-7bc6-2a48-43d505ade20c"
   },
   "source": [
    "At face value, some classifiers perform better than others. However, the differences between the methods are relatively small and more likely due to more or less over-fitting than anything else. (Except, possibly, for the Perceptron. There a bit more tuning might be appropriate.)"
   ]
  },
  {
   "cell_type": "markdown",
   "metadata": {
    "_cell_guid": "37cfaf4d-9329-4f17-f6e2-f999577b282b"
   },
   "source": [
    "For additional insight we compare the *feature\\_importance* output of all the classifiers for which it exists:"
   ]
  },
  {
   "cell_type": "code",
   "execution_count": null,
   "metadata": {
    "_cell_guid": "35a9c955-a015-5674-8e46-e086125dab0f"
   },
   "outputs": [],
   "source": [
    "summary = pd.DataFrame(list(zip(X.columns, \\\n",
    "    np.transpose(clf_tree.feature_importances_), \\\n",
    "    np.transpose(clf_rf.feature_importances_), \\\n",
    "    np.transpose(clf_ext.feature_importances_), \\\n",
    "    np.transpose(clf_gb.feature_importances_), \\\n",
    "    np.transpose(clf_ada.feature_importances_), \\\n",
    "    np.transpose(clf_xgb.feature_importances_), \\\n",
    "    )), columns=['Feature','Tree','RF','Extra','GB','Ada','Xtreme'])\n",
    "  \n",
    "summary['Median'] = summary.median(1)\n",
    "summary.sort('Median', ascending=False)"
   ]
  },
  {
   "cell_type": "markdown",
   "metadata": {
    "_cell_guid": "48871258-e5c5-d170-1f0b-22c3cebcd486"
   },
   "source": [
    "The *feature importance* tells us how much impact an individual feature has on the decisions within the classifier. Alongside the individual features we also compute a *median* importance.\n",
    "\n",
    "The overall result is not very surprising: *Sex* and *Pclass* are the dominant features while everything else is of similar, significantly lower importance.\n",
    "\n",
    "The devil here is in the details:\n",
    "\n",
    "- Why is *Sex* so much weaker for the boosting algorithms? And why have features like *Alone* more impact when boosted? Is it because of the lower tree depth?\n",
    "- What can we learn from these discrepancies with respect to parameter optimisation for the individual classifiers?"
   ]
  },
  {
   "cell_type": "markdown",
   "metadata": {
    "_cell_guid": "97c78415-8594-0d52-6064-b3467ce98508"
   },
   "source": [
    "## *Stacking / Ensemble methods*"
   ]
  },
  {
   "cell_type": "markdown",
   "metadata": {
    "_cell_guid": "8de2c835-4dd2-e308-1bae-db7991c42196"
   },
   "source": [
    "Each of the individual classifiers we have used above has its strengths and weaknesses, and we should always choose the classifier that's best equipped to handle a certain problem and/or has been found to perform with the highest accuracy. But wouldn't it be nice to combine all these different classifiers to get a more accurate overall prediction? This is possible through an approach called *Ensemble methods*. We have already encountered this strategy in our Random Forests or Bagging estimators above, where the aim was to get a more accurate estimate from combining multiple runs of a single classifier (like a Decision Tree; for instance).\n",
    "\n",
    "Now, we want to combine the results of *different kinds of classifiers* to improve our prediction."
   ]
  },
  {
   "cell_type": "markdown",
   "metadata": {
    "_cell_guid": "3ff88ebf-832c-9ef5-1e91-ff7557a89bf7"
   },
   "source": [
    "The easiest method to combine different classifiers is through a **Voting Classifier**. It does exactly what the name suggests: each individual classifier makes a certain prediction and then the *majority vote* is used for each row. This majority process can either give all individual votes the same importance or assign different weights to make some classifiers have more impact than others.\n",
    "\n",
    "Voting can be more powerful when used with weights, so that several weaker classifiers can only successfully vote against one/two stronger ones if they consistently agree on a specific prediction. This is expected to increase the accuracy of the final prediction. Read more in the extensive [Kaggle Ensemble Guide](https://mlwave.com/kaggle-ensembling-guide/).\n",
    "\n",
    "Below, we decide to assign different, somewhat arbitrary weight according to how we think each classifier performs. "
   ]
  },
  {
   "cell_type": "code",
   "execution_count": null,
   "metadata": {
    "_cell_guid": "2107691b-d32b-875d-87c8-d04ce15678b5"
   },
   "outputs": [],
   "source": [
    "clf_vote = VotingClassifier(\n",
    "    estimators=[\n",
    "        #('tree', clf_tree),\n",
    "        ('knn', clf_knn),\n",
    "        ('svm', clf_svm),\n",
    "        ('extra', clf_ext),\n",
    "       #('gb', clf_gb),\n",
    "        ('xgb', clf_xgb),\n",
    "        ('percep', clf_pctr),\n",
    "        ('logistic', clf_log),\n",
    "        #('RF', clf_rf),\n",
    "        ],\n",
    "    weights=[2,2,3,3,1,2],\n",
    "    voting='hard')\n",
    "clf_vote.fit(X,y)\n",
    "\n",
    "scores = cross_val_score(clf_vote, X, y, cv=5, scoring='accuracy')\n",
    "print(\"Voting: Accuracy: %0.2f (+/- %0.2f)\" % (scores.mean(), scores.std()))\n",
    "\n",
    "#for clf, label in zip(\n",
    "#    [clf_tree,clf_knn,clf_svm,clf_ext,clf_gb,clf_xgb,clf_pctr,clf_log,clf_rf,clf_bag,clf_vote],\n",
    "#    ['tree','knn','svm','extra','gb','xgb','percep','logistic','RF','Bag','Ensemble']):\n",
    "#    scores = cross_val_score(clf, X, y, cv=5, scoring='accuracy')\n",
    "#    print(\"Accuracy: %0.2f (+/- %0.2f) [%s]\" % (scores.mean(), scores.std(), label))"
   ]
  },
  {
   "cell_type": "markdown",
   "metadata": {
    "_cell_guid": "307d71be-e72e-e74c-8e91-c84de290338b"
   },
   "source": [
    "In the next step, we will try to incorporate the information from the great [Introduction to Ensembling/Stacking in Python by Anisotropic](https://www.kaggle.com/arthurtok/introduction-to-ensembling-stacking-in-python) into our script.\n",
    "\n",
    "We start out by copying the relevant parts of the script verbatim (standing on the shoulders of giants, and so on ...) and making it run in our environment. Afterwards, we will try to gradually adapt and simplify the approach, to make use of the work we have already done above for all the individual classifiers. Hopefully, this will result in a better understanding of stacking.\n",
    "\n",
    "*If you want a step by step overview then have a good look at [Anisotropic's Kernel](https://www.kaggle.com/arthurtok/introduction-to-ensembling-stacking-in-python) and the references therein. Seriously, you should check it out. It's great.*"
   ]
  },
  {
   "cell_type": "code",
   "execution_count": null,
   "metadata": {
    "_cell_guid": "5b6fa9e1-686b-6e86-6fc2-bf58dda3b16c"
   },
   "outputs": [],
   "source": [
    "# adjust these methods to my notation:\n",
    "train = X\n",
    "\n",
    "# training and train/test split parameters\n",
    "ntrain = train.shape[0]\n",
    "ntest = test.shape[0]\n",
    "SEED = 0 # for reproducibility\n",
    "NFOLDS = 5 # set folds for out-of-fold prediction\n",
    "kf = KFold(n_splits=NFOLDS, random_state=SEED)\n",
    "\n",
    "# Class to extend the Sklearn classifier; this basically unifies the way we call each classifier \n",
    "class SklearnHelper(object):\n",
    "    def __init__(self, clf, seed=0, params=None):\n",
    "        params['random_state'] = seed\n",
    "        self.clf = clf(**params)\n",
    "\n",
    "    def train(self, x_train, y_train):\n",
    "        self.clf.fit(x_train, y_train)\n",
    "\n",
    "    def predict(self, x):\n",
    "        return self.clf.predict(x)\n",
    "    \n",
    "    def fit(self,x,y):\n",
    "        return self.clf.fit(x,y)"
   ]
  },
  {
   "cell_type": "code",
   "execution_count": null,
   "metadata": {
    "_cell_guid": "3d60204c-8ae5-460b-b041-aca245b693e7"
   },
   "outputs": [],
   "source": [
    "# function for out-of-fold prediction\n",
    "def get_oof(clf, x_train, y_train, x_test):\n",
    "    oof_train = np.zeros((ntrain,))\n",
    "    oof_test = np.zeros((ntest,))\n",
    "    oof_test_skf = np.empty((NFOLDS, ntest))\n",
    "    \n",
    "    # split data in NFOLDS training vs testing samples\n",
    "    for i, (train_index, test_index) in enumerate(kf.split(x_train)):\n",
    "        # select train and test sample\n",
    "        x_tr = x_train[train_index]\n",
    "        y_tr = y_train[train_index]\n",
    "        x_te = x_train[test_index]\n",
    "        \n",
    "        # train classifier on training sample\n",
    "        clf.train(x_tr, y_tr)\n",
    "        \n",
    "        # predict classifier for testing sample\n",
    "        oof_train[test_index] = clf.predict(x_te)\n",
    "        # predict classifier for original test sample\n",
    "        oof_test_skf[i, :] = clf.predict(x_test)\n",
    "    \n",
    "    # take the median of all NFOLD test sample predictions\n",
    "    # (changed from mean to preserve binary classification)\n",
    "    oof_test[:] = np.median(oof_test_skf,axis=0)\n",
    "    return oof_train.reshape(-1, 1), oof_test.reshape(-1, 1)"
   ]
  },
  {
   "cell_type": "code",
   "execution_count": null,
   "metadata": {
    "_cell_guid": "1469fbd1-3c96-b30e-4e36-4b8a04772ca8"
   },
   "outputs": [],
   "source": [
    "# Put in our parameters for selected classifiers\n",
    "# Random Forest parameters\n",
    "rf_params = {\n",
    "    'n_estimators': 500,\n",
    "     'warm_start': True, \n",
    "     #'max_features': 0.2,\n",
    "    'max_depth': 6,\n",
    "    'min_samples_leaf': 2,\n",
    "    'max_features' : 'sqrt',\n",
    "}\n",
    "\n",
    "# Extra Trees Parameters\n",
    "et_params = {\n",
    "    'n_estimators':500,\n",
    "    #'max_features': 0.5,\n",
    "    'max_depth': 8,\n",
    "    'min_samples_leaf': 2,\n",
    "}\n",
    "\n",
    "# AdaBoost parameters\n",
    "ada_params = {\n",
    "    'n_estimators': 500,\n",
    "    'learning_rate' : 0.75\n",
    "}\n",
    "\n",
    "# Gradient Boosting parameters\n",
    "gb_params = {\n",
    "    'n_estimators': 500,\n",
    "     #'max_features': 0.2,\n",
    "    'max_depth': 5,\n",
    "    'min_samples_leaf': 2,\n",
    "}\n",
    "\n",
    "# Support Vector Classifier parameters \n",
    "svc_params = {\n",
    "    'kernel' : 'linear',\n",
    "    'C' : 0.025\n",
    "    }"
   ]
  },
  {
   "cell_type": "code",
   "execution_count": null,
   "metadata": {
    "_cell_guid": "f96e94a5-14f5-8b2d-4760-4fe7d4671533"
   },
   "outputs": [],
   "source": [
    "# Create objects for each classifier\n",
    "rf = SklearnHelper(clf=RandomForestClassifier, seed=SEED, params=rf_params)\n",
    "et = SklearnHelper(clf=ExtraTreesClassifier, seed=SEED, params=et_params)\n",
    "ada = SklearnHelper(clf=AdaBoostClassifier, seed=SEED, params=ada_params)\n",
    "gb = SklearnHelper(clf=GradientBoostingClassifier, seed=SEED, params=gb_params)\n",
    "svc = SklearnHelper(clf=svm.SVC, seed=SEED, params=svc_params)"
   ]
  },
  {
   "cell_type": "code",
   "execution_count": null,
   "metadata": {
    "_cell_guid": "6fa98b41-b7e7-ac60-38ab-0c5d6d3731e2"
   },
   "outputs": [],
   "source": [
    "# Create Numpy arrays of train, test and target dataframes to feed into our models\n",
    "y_train = y\n",
    "train = X\n",
    "foo = test.loc[:,cols]\n",
    "x_train = train.values \n",
    "x_test = foo.values"
   ]
  },
  {
   "cell_type": "code",
   "execution_count": null,
   "metadata": {
    "_cell_guid": "8187da31-282d-af3b-8ffb-c1b32521da58"
   },
   "outputs": [],
   "source": [
    "# Create our OOF train and test predictions. These base results will be used as new features\n",
    "et_oof_train, et_oof_test = get_oof(et, x_train, y_train, x_test) # Extra Trees\n",
    "rf_oof_train, rf_oof_test = get_oof(rf,x_train, y_train, x_test) # Random Forest\n",
    "ada_oof_train, ada_oof_test = get_oof(ada, x_train, y_train, x_test) # AdaBoost \n",
    "gb_oof_train, gb_oof_test = get_oof(gb,x_train, y_train, x_test) # Gradient Boost\n",
    "svc_oof_train, svc_oof_test = get_oof(svc,x_train, y_train, x_test) # Support Vector Classifier\n",
    "\n",
    "print(\"Training is complete\")"
   ]
  },
  {
   "cell_type": "code",
   "execution_count": null,
   "metadata": {
    "_cell_guid": "93ddf5ed-80d4-d88f-1202-32d027a0c8e0"
   },
   "outputs": [],
   "source": [
    "base_predictions_train = pd.DataFrame( {'RandomForest': rf_oof_train.ravel(),\n",
    "     'ExtraTrees': et_oof_train.ravel(),\n",
    "     'AdaBoost': ada_oof_train.ravel(),\n",
    "      'SVM' : svc_oof_train.ravel(),\n",
    "      'GradientBoost': gb_oof_train.ravel()\n",
    "    })\n",
    "base_predictions_train.head()"
   ]
  },
  {
   "cell_type": "code",
   "execution_count": null,
   "metadata": {
    "_cell_guid": "fa802ef4-2dc0-87d2-6fd3-8aa79b4b1085"
   },
   "outputs": [],
   "source": [
    "plt.figure(figsize=(12,10))\n",
    "foo = sns.heatmap(base_predictions_train.corr(), vmax=1.0, square=True, annot=True)"
   ]
  },
  {
   "cell_type": "markdown",
   "metadata": {
    "_cell_guid": "dbeb1bc6-d2c0-1f51-5fe4-f50358001b3b"
   },
   "source": [
    "Stacking of classifiers that have less correlation gives better results. Intuitively, classifiers that are highly correlated, like *ExtraTrees* and *GradientBoost* above, are already so similar that stacking doesn't change the result in a significant way. This is reflected in the relatively low correlation index of the SVM with everything else.\n",
    "\n",
    "Therefore, it would be more useful to replace the predominantly tree-based sample of classifiers with a more diverse set. "
   ]
  },
  {
   "cell_type": "code",
   "execution_count": null,
   "metadata": {
    "_cell_guid": "477ed08e-832e-ba08-8cd6-892e81ef77ab"
   },
   "outputs": [],
   "source": [
    "x_train = np.concatenate(( et_oof_train, rf_oof_train, ada_oof_train, gb_oof_train, svc_oof_train), axis=1)\n",
    "x_test = np.concatenate(( et_oof_test, rf_oof_test, ada_oof_test, gb_oof_test, svc_oof_test), axis=1)"
   ]
  },
  {
   "cell_type": "code",
   "execution_count": null,
   "metadata": {
    "_cell_guid": "6ccc177c-e1ad-b33d-655a-f9e05dbfec25"
   },
   "outputs": [],
   "source": [
    "x_train"
   ]
  },
  {
   "cell_type": "code",
   "execution_count": null,
   "metadata": {
    "_cell_guid": "ac7817b8-5842-e5d7-befa-bc0db0f5e421"
   },
   "outputs": [],
   "source": [
    "clf_stack = xgb.XGBClassifier(\n",
    "    #learning_rate = 0.02,\n",
    " n_estimators= 2000,\n",
    " max_depth= 4,\n",
    " min_child_weight= 2,\n",
    " #gamma=1,\n",
    " gamma=0.9,                        \n",
    " subsample=0.8,\n",
    " colsample_bytree=0.8,\n",
    " objective= 'binary:logistic',\n",
    " scale_pos_weight=1)\n",
    "clf_stack = clf_stack.fit(x_train, y_train)\n",
    "stack_pred = clf_stack.predict(x_test)"
   ]
  },
  {
   "cell_type": "code",
   "execution_count": null,
   "metadata": {
    "_cell_guid": "83547795-ca8c-c4cf-86a0-3cc4092816de"
   },
   "outputs": [],
   "source": [
    "scores = cross_val_score(clf_stack, x_train, y_train, cv=5)\n",
    "print(scores)\n",
    "print(\"Mean score = %.3f, Std deviation = %.3f\"%(np.mean(scores),np.std(scores)))"
   ]
  },
  {
   "cell_type": "markdown",
   "metadata": {
    "_cell_guid": "8dd24167-7fb9-1f2f-73ac-fca0ed0572b3"
   },
   "source": [
    "Coming soon: The next step will use the pre-packaged stacking classifier of the mlxtend package. "
   ]
  },
  {
   "cell_type": "markdown",
   "metadata": {
    "_cell_guid": "16a30923-b40f-b7f8-25f6-0846068cda7c"
   },
   "source": [
    "<a id='submit'></a>"
   ]
  },
  {
   "cell_type": "markdown",
   "metadata": {
    "_cell_guid": "cfc1b106-998d-129a-9a8a-e4ff51a053d8"
   },
   "source": [
    "[Go to the top of the page](#top)"
   ]
  },
  {
   "cell_type": "markdown",
   "metadata": {
    "_cell_guid": "c4ba30af-2d5f-319d-2965-37a6e67d848f"
   },
   "source": [
    "# 8. Preparing our prediction for submission"
   ]
  },
  {
   "cell_type": "markdown",
   "metadata": {
    "_cell_guid": "9566b05e-e801-93bd-9dd8-fbf2ad79df66"
   },
   "source": [
    "**Finally**, we pick our favourite classifier and **predict** the expected survival for the passengers in the *test* data set. The result is **written to a submission file** according to the competition rules (418 rows; only include the columns *PassengerId* and *Survived*). "
   ]
  },
  {
   "cell_type": "code",
   "execution_count": null,
   "metadata": {
    "_cell_guid": "07f03241-91f3-6fc5-7964-4f0d109c3b07"
   },
   "outputs": [],
   "source": [
    "clf = clf_vote\n",
    "df2 = test.loc[:,cols].fillna(method='pad')\n",
    "surv_pred = clf.predict(df2)"
   ]
  },
  {
   "cell_type": "code",
   "execution_count": null,
   "metadata": {
    "_cell_guid": "12c77376-6b7f-854b-18c2-6af5b1669e20"
   },
   "outputs": [],
   "source": [
    "submit = pd.DataFrame({'PassengerId' : test.loc[:,'PassengerId'],\n",
    "                       #'Survived': surv_pred.T})\n",
    "                       'Survived': stack_pred.T})\n",
    "submit.to_csv(\"../working/submit.csv\", index=False)\n",
    "#submit.to_csv(\"submit.csv\", index=False)"
   ]
  },
  {
   "cell_type": "code",
   "execution_count": null,
   "metadata": {
    "_cell_guid": "14abd93e-401b-bde2-26f7-d20922f44023"
   },
   "outputs": [],
   "source": [
    "submit.head()"
   ]
  },
  {
   "cell_type": "code",
   "execution_count": null,
   "metadata": {
    "_cell_guid": "11322953-947e-d6b1-762f-c82203986202"
   },
   "outputs": [],
   "source": [
    "submit.shape"
   ]
  },
  {
   "cell_type": "markdown",
   "metadata": {
    "_cell_guid": "494ca6ec-85bd-70d3-fa10-4875e79295ff"
   },
   "source": [
    "The file *submit.csv* will now appear in the *Output* tab of this Kernel and can be submitted to the competition directly from there. (Or at least it used to be. There seem to be some issues with this option at the moment.)\n",
    "\n",
    "&nbsp;\n",
    "\n",
    "*Best of success and enjoy learning!*"
   ]
  },
  {
   "cell_type": "code",
   "execution_count": null,
   "metadata": {
    "_cell_guid": "39680d9f-de9c-c8dc-7ea7-85e1d1b1c220"
   },
   "outputs": [],
   "source": []
  }
 ],
 "metadata": {
  "_change_revision": 0,
  "_is_fork": false,
  "hide_input": false,
  "kernelspec": {
   "display_name": "Python 3",
   "language": "python",
   "name": "python3"
  },
  "language_info": {
   "codemirror_mode": {
    "name": "ipython",
    "version": 3
   },
   "file_extension": ".py",
   "mimetype": "text/x-python",
   "name": "python",
   "nbconvert_exporter": "python",
   "pygments_lexer": "ipython3",
   "version": "3.6.4"
  },
  "latex_envs": {
   "LaTeX_envs_menu_present": true,
   "autoclose": false,
   "autocomplete": true,
   "bibliofile": "biblio.bib",
   "cite_by": "apalike",
   "current_citInitial": 1,
   "eqLabelWithNumbers": true,
   "eqNumInitial": 1,
   "hotkeys": {
    "equation": "Ctrl-E",
    "itemize": "Ctrl-I"
   },
   "labels_anchors": false,
   "latex_user_defs": false,
   "report_style_numbering": false,
   "user_envs_cfg": false
  },
  "toc": {
   "base_numbering": 1,
   "nav_menu": {},
   "number_sections": true,
   "sideBar": true,
   "skip_h1_title": false,
   "title_cell": "Table of Contents",
   "title_sidebar": "Contents",
   "toc_cell": false,
   "toc_position": {},
   "toc_section_display": true,
   "toc_window_display": true
  },
  "varInspector": {
   "cols": {
    "lenName": 16,
    "lenType": 16,
    "lenVar": 40
   },
   "kernels_config": {
    "python": {
     "delete_cmd_postfix": "",
     "delete_cmd_prefix": "del ",
     "library": "var_list.py",
     "varRefreshCmd": "print(var_dic_list())"
    },
    "r": {
     "delete_cmd_postfix": ") ",
     "delete_cmd_prefix": "rm(",
     "library": "var_list.r",
     "varRefreshCmd": "cat(var_dic_list()) "
    }
   },
   "types_to_exclude": [
    "module",
    "function",
    "builtin_function_or_method",
    "instance",
    "_Feature"
   ],
   "window_display": false
  }
 },
 "nbformat": 4,
 "nbformat_minor": 1
}
